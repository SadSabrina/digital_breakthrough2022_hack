{
 "cells": [
  {
   "cell_type": "markdown",
   "id": "f9bace1f",
   "metadata": {},
   "source": [
    "# Цифровой прорыв 2022\n",
    "\n",
    "**Описание данных.** \n",
    "\n",
    "train.csv — файл содержащий данные пользователей для тренировки. Где:\n",
    "- 1 - клиент ушел,\n",
    "- 0 - остался.\n",
    "\n",
    "log.csv — содержит данные обращений пользователей в компаию\n",
    "\n",
    "named.csv — содержит логи днс-запросов к доменам конкурентов (rt.ru и sampo.ru) \\\n",
    "\n",
    "type contract.csv - тип списания оплаты у пользователей, где: \n",
    "- 1 - посуточная,\n",
    "- 0 - помесячная.\n",
    "\n",
    "submission.csv — пример файла для отправки и id тестовых пользователей\n",
    "\n",
    "\n",
    "Метрика baselin'a (Recall score): 0.49873817034700313"
   ]
  },
  {
   "cell_type": "code",
   "execution_count": 1,
   "id": "ae825efb",
   "metadata": {},
   "outputs": [],
   "source": [
    "#Импорт библиотек и алгоритмов\n",
    "\n",
    "import pandas as pd"
   ]
  },
  {
   "cell_type": "code",
   "execution_count": 2,
   "id": "33f99c2c",
   "metadata": {},
   "outputs": [],
   "source": [
    "df_train = pd.read_csv(\"train.csv\") #данные для тренировки id и факт ухода\n",
    "df_type_contract = pd.read_csv(\"type_contract.csv\") #данные о типе списания\n",
    "\n",
    "df_concurent_logs = pd.read_csv('named.csv')\n",
    "df_relative_logs = pd.read_csv(\"log.csv\") #обращения клиентов в кампанию\n",
    "\n",
    "df_sample_solution = pd.read_csv(\"sample_solution.csv\") #образец\n",
    "\n",
    "df_type_contract.drop_duplicates(inplace = True)\n",
    "df_concurent_logs.drop_duplicates(inplace = True)"
   ]
  },
  {
   "cell_type": "markdown",
   "id": "057a5167",
   "metadata": {},
   "source": [
    "## Дубликаты и пропуски. Выводы рассмотрения\n",
    "\n",
    "### Дубликаты\n",
    "\n",
    "**df_concurent_logs (логи днс-запросов к конкурентам)**\n",
    "\n",
    "Содержит дубликатов 2989415, что составляет 28% от полученных данных\n",
    "Дубликаты регистрировались по обоим месяцам, представленным в наборе данных (марте, апрель). **Возможно есть неполадки в регистрации логов** —данную гипотезу необходимо проверить, чтобы избежать бессмысленнного увеличения необходимого места для таких данных логов. \n",
    "\n",
    "\n",
    "**df_type_contract (тип списания у клиента)**\n",
    "\n",
    "Содержит дубликатов 5.\n",
    "Гипотеза: человеческий фактор — ошибка сотрудника при внеении данных в базу данных\n",
    "\n",
    "\n",
    "**Остальные наборы данных дубликатов не содержат** \n",
    "\n",
    "### Пропуски, недостающие части в данных\n",
    "\n",
    "**Тип контракта** отстсвует для двух тренировчных id (df_type_contract)\n",
    "\n",
    "**Логи конкурентов** отсутствуют для 3077 (51.35%) тренировочных id и для 3497 (48.5%) из всех доступных id (тестовые + тренировочные)\n",
    "\n",
    "**Родные логи** (обращения в компанию) отсутствуют для 2183 (36.4%) тренировочных id и для 2491 (36.6%) из всех доступных id \n",
    "\n",
    "**Гипотеза:** все вышеперечисленные недостаточные части вызваны небольшим life time value клиента в компании, то есть  если логов нет, то клиент просто не имел проблем/не делал обращений к доменам конкурентов. Однако, для выявления точной причины необходимо понимание, когда пользователь стал клиентом Ситилинка и пониман.  \n",
    "\n"
   ]
  },
  {
   "cell_type": "code",
   "execution_count": 3,
   "id": "361acc7c",
   "metadata": {},
   "outputs": [],
   "source": [
    "#Дату и время сражу кастую к релевантному типу, прочитались как строки\n",
    "\n",
    "df_concurent_logs['date'] = pd.to_datetime(df_concurent_logs['date'])\n",
    "df_relative_logs['event_date'] = pd.to_datetime(df_relative_logs['event_date'])"
   ]
  },
  {
   "cell_type": "markdown",
   "id": "bc243bc9",
   "metadata": {},
   "source": [
    "# Извлечение признаков из данных о логах к конкурентам\n",
    "\n",
    "На признаках по логам конкурентов сделан небольшой акцент, поскольку первое рассмотрение данных показало наихудшее качество полученных данных — 28% дубликатов и присутвие возможного признака только для 51.5% от общего количество наблюдений. \n",
    "\n",
    "Важно уточнить:  может ли быть такое, что клиент вообще ни разу не генерировал логов на сайтах конкурентов за всю свою life time value в компании?\n",
    "\n",
    "**Извлеченные признаки:**\n",
    "\n",
    "- количество логов к конкурентам"
   ]
  },
  {
   "cell_type": "code",
   "execution_count": 4,
   "id": "e0c76dbc",
   "metadata": {},
   "outputs": [],
   "source": [
    "import seaborn as sns\n",
    "import matplotlib.pyplot as plt\n",
    "from IPython.display import display\n",
    "from scipy.stats import chi2_contingency\n",
    "\n",
    "def schow_feature_boxplots(feature_data, feature, chi2=False):\n",
    "    \n",
    "    feature_data_merged = feature_data.merge(df_train, on='contract_id', how='right')\n",
    "    \n",
    "    ax = sns.boxplot(data=feature_data_merged, x='blocked', y=feature)\n",
    "    plt.show()\n",
    "    \n",
    "    feature_subdata_1 = feature_data_merged.query('blocked == 1')\n",
    "    feature_subdata_0 = feature_data_merged.query('blocked == 0')\n",
    "    \n",
    "    print('Статистики для группы blocked == 1')\n",
    "    \n",
    "    display(feature_subdata_1.describe()[[feature]])\n",
    "    print('Медиана:', feature_subdata_1[feature].median())\n",
    "    \n",
    "    print(f'% пропусков в признаке для группы 1: \\\n",
    "          \\n{round(feature_subdata_1[feature].isna().sum()/len(feature_subdata_1)*100, 1)}')\n",
    "    \n",
    "    print()\n",
    "    \n",
    "    print('Статистики для группы blocked == 0')\n",
    "    \n",
    "    display(feature_subdata_0.describe()[[feature]])\n",
    "    print('Медиана:', feature_subdata_0[feature].median())\n",
    "    \n",
    "    print(f'% пропусков в признаке для группы 0: \\\n",
    "           \\n{round(feature_subdata_0[feature].isna().sum()/len(feature_subdata_0)*100, 1)}')\n",
    "    \n",
    "    #chi2, нулевая гипотеза связи между переменными и группами нет\n",
    "    \n",
    "    if chi2 == True:\n",
    "        data = pd.crosstab(feature_data_merged['blocked'], feature_data_merged[feature])\n",
    "        stat, p, dof, expected = chi2_contingency(data)\n",
    "    \n",
    "        alpha = 0.05\n",
    "        print('Нулевая гипотеза: нет связи между переменными и группами ')\n",
    "        print ( \"p value равно \" + str (p))\n",
    "        if p <= alpha:\n",
    "            print ( 'Отклонить нулевую гипотезу' )\n",
    "        \n",
    "        else :\n",
    "            print ('Нулевая гипотеза верна')\n",
    "    \n",
    "    return ax"
   ]
  },
  {
   "cell_type": "markdown",
   "id": "4f938b24",
   "metadata": {},
   "source": [
    "**Анализ потенциального признака количество логов.**"
   ]
  },
  {
   "cell_type": "code",
   "execution_count": 5,
   "id": "0498e35d",
   "metadata": {},
   "outputs": [],
   "source": [
    "#Датасет, который будет содержать логи конкурентов\n",
    "\n",
    "concurent_logs_features = df_concurent_logs.copy()\n",
    "\n",
    "#Формирование признака Количество логов. \n",
    "concurent_logs_features = pd.DataFrame(concurent_logs_features.groupby('contract_id').count()['date']).reset_index()\n",
    "concurent_logs_features.rename({'date':'concurent_logs_count'}, axis=1, inplace=True)"
   ]
  },
  {
   "cell_type": "code",
   "execution_count": 6,
   "id": "ff62a778",
   "metadata": {},
   "outputs": [
    {
     "data": {
      "image/png": "[encoded data removed]",
      "text/plain": [
       "<Figure size 432x288 with 1 Axes>"
      ]
     },
     "metadata": {
      "needs_background": "light"
     },
     "output_type": "display_data"
    },
    {
     "name": "stdout",
     "output_type": "stream",
     "text": [
      "Статистики для группы blocked == 1\n"
     ]
    },
    {
     "data": {
      "text/html": [
       "<div>\n",
       "<style scoped>\n",
       "    .dataframe tbody tr th:only-of-type {\n",
       "        vertical-align: middle;\n",
       "    }\n",
       "\n",
       "    .dataframe tbody tr th {\n",
       "        vertical-align: top;\n",
       "    }\n",
       "\n",
       "    .dataframe thead th {\n",
       "        text-align: right;\n",
       "    }\n",
       "</style>\n",
       "<table border=\"1\" class=\"dataframe\">\n",
       "  <thead>\n",
       "    <tr style=\"text-align: right;\">\n",
       "      <th></th>\n",
       "      <th>concurent_logs_count</th>\n",
       "    </tr>\n",
       "  </thead>\n",
       "  <tbody>\n",
       "    <tr>\n",
       "      <th>count</th>\n",
       "      <td>157.000000</td>\n",
       "    </tr>\n",
       "    <tr>\n",
       "      <th>mean</th>\n",
       "      <td>12.662420</td>\n",
       "    </tr>\n",
       "    <tr>\n",
       "      <th>std</th>\n",
       "      <td>15.964927</td>\n",
       "    </tr>\n",
       "    <tr>\n",
       "      <th>min</th>\n",
       "      <td>1.000000</td>\n",
       "    </tr>\n",
       "    <tr>\n",
       "      <th>25%</th>\n",
       "      <td>2.000000</td>\n",
       "    </tr>\n",
       "    <tr>\n",
       "      <th>50%</th>\n",
       "      <td>5.000000</td>\n",
       "    </tr>\n",
       "    <tr>\n",
       "      <th>75%</th>\n",
       "      <td>19.000000</td>\n",
       "    </tr>\n",
       "    <tr>\n",
       "      <th>max</th>\n",
       "      <td>83.000000</td>\n",
       "    </tr>\n",
       "  </tbody>\n",
       "</table>\n",
       "</div>"
      ],
      "text/plain": [
       "       concurent_logs_count\n",
       "count            157.000000\n",
       "mean              12.662420\n",
       "std               15.964927\n",
       "min                1.000000\n",
       "25%                2.000000\n",
       "50%                5.000000\n",
       "75%               19.000000\n",
       "max               83.000000"
      ]
     },
     "metadata": {},
     "output_type": "display_data"
    },
    {
     "name": "stdout",
     "output_type": "stream",
     "text": [
      "Медиана: 5.0\n",
      "% пропусков в признаке для группы 1:           \n",
      "77.5\n",
      "\n",
      "Статистики для группы blocked == 0\n"
     ]
    },
    {
     "data": {
      "text/html": [
       "<div>\n",
       "<style scoped>\n",
       "    .dataframe tbody tr th:only-of-type {\n",
       "        vertical-align: middle;\n",
       "    }\n",
       "\n",
       "    .dataframe tbody tr th {\n",
       "        vertical-align: top;\n",
       "    }\n",
       "\n",
       "    .dataframe thead th {\n",
       "        text-align: right;\n",
       "    }\n",
       "</style>\n",
       "<table border=\"1\" class=\"dataframe\">\n",
       "  <thead>\n",
       "    <tr style=\"text-align: right;\">\n",
       "      <th></th>\n",
       "      <th>concurent_logs_count</th>\n",
       "    </tr>\n",
       "  </thead>\n",
       "  <tbody>\n",
       "    <tr>\n",
       "      <th>count</th>\n",
       "      <td>2703.000000</td>\n",
       "    </tr>\n",
       "    <tr>\n",
       "      <th>mean</th>\n",
       "      <td>10.216426</td>\n",
       "    </tr>\n",
       "    <tr>\n",
       "      <th>std</th>\n",
       "      <td>14.875008</td>\n",
       "    </tr>\n",
       "    <tr>\n",
       "      <th>min</th>\n",
       "      <td>1.000000</td>\n",
       "    </tr>\n",
       "    <tr>\n",
       "      <th>25%</th>\n",
       "      <td>2.000000</td>\n",
       "    </tr>\n",
       "    <tr>\n",
       "      <th>50%</th>\n",
       "      <td>4.000000</td>\n",
       "    </tr>\n",
       "    <tr>\n",
       "      <th>75%</th>\n",
       "      <td>11.000000</td>\n",
       "    </tr>\n",
       "    <tr>\n",
       "      <th>max</th>\n",
       "      <td>99.000000</td>\n",
       "    </tr>\n",
       "  </tbody>\n",
       "</table>\n",
       "</div>"
      ],
      "text/plain": [
       "       concurent_logs_count\n",
       "count           2703.000000\n",
       "mean              10.216426\n",
       "std               14.875008\n",
       "min                1.000000\n",
       "25%                2.000000\n",
       "50%                4.000000\n",
       "75%               11.000000\n",
       "max               99.000000"
      ]
     },
     "metadata": {},
     "output_type": "display_data"
    },
    {
     "name": "stdout",
     "output_type": "stream",
     "text": [
      "Медиана: 4.0\n",
      "% пропусков в признаке для группы 0:            \n",
      "48.9\n"
     ]
    },
    {
     "data": {
      "text/plain": [
       "<AxesSubplot:xlabel='blocked', ylabel='concurent_logs_count'>"
      ]
     },
     "execution_count": 6,
     "metadata": {},
     "output_type": "execute_result"
    }
   ],
   "source": [
    "schow_feature_boxplots(concurent_logs_features.query('concurent_logs_count <100'), 'concurent_logs_count', False)"
   ]
  },
  {
   "cell_type": "code",
   "execution_count": 7,
   "id": "ec9c8c96",
   "metadata": {},
   "outputs": [
    {
     "data": {
      "text/plain": [
       "17.0"
      ]
     },
     "execution_count": 7,
     "metadata": {},
     "output_type": "execute_result"
    }
   ],
   "source": [
    "concurent_logs_features.merge(df_train, how='right').query('blocked==0')['concurent_logs_count'].quantile(0.80)"
   ]
  },
  {
   "cell_type": "markdown",
   "id": "63c15c72",
   "metadata": {},
   "source": [
    "Высокий процент пропусков как для целевой, так и для нулевой группы. \n",
    "Заполнение, например нулями, чревато скосом среднего. Есть клиенты с подозрительно высоким количеством логов конкурентов, однако аномальность таких данных требует уточнения специалиста тк разнообразие собираемых ссылок, с которых можно получить запрос велико — 6583 уникальных в этом наборе данных.\n",
    "\n",
    "Для группы оставшихся характерно для 95% наблюдений характерно количество запросов до 52, для 75% до 12, для 80% до 17 (верхняя граница синего квадарата). \n",
    "\n",
    "**Признак использовался в лучшей модели**"
   ]
  },
  {
   "cell_type": "code",
   "execution_count": 8,
   "id": "6deeb5cc",
   "metadata": {},
   "outputs": [],
   "source": [
    "#Сформируем также признак \"Больше 17 запросов\"\n",
    "\n",
    "concurent_logs_features['concurent_logs_count_flag'] = concurent_logs_features['concurent_logs_count'].apply(\n",
    "                                                        lambda x: 1 if x > 17 else 0)"
   ]
  },
  {
   "cell_type": "markdown",
   "id": "1b4a4be7",
   "metadata": {},
   "source": [
    "**Анализ потенциального признака количество логов по конкурентам (сампо, рт).**"
   ]
  },
  {
   "cell_type": "code",
   "execution_count": 9,
   "id": "8e984180",
   "metadata": {},
   "outputs": [],
   "source": [
    "#Формирую флаг, сампо или рт\n",
    "\n",
    "df_concurent_logs['sampo_feature'] =  df_concurent_logs['url'].apply(lambda x: 1 if 'sampo' in x else 0)\n",
    "df_concurent_logs['rt_feature'] =  df_concurent_logs['url'].apply(lambda x: 1 if 'rt' in x else 0)\n",
    "\n"
   ]
  },
  {
   "cell_type": "code",
   "execution_count": 10,
   "id": "63dad4da",
   "metadata": {},
   "outputs": [],
   "source": [
    "concurent_logs_features = concurent_logs_features.merge(df_concurent_logs.groupby(\n",
    "    'contract_id').sum()[['sampo_feature',  'rt_feature']].reset_index(), how='outer', on='contract_id')\n",
    "\n",
    "\n",
    "concurent_logs_features.rename({'sampo_feature': 'total_sampo_logs', 'rt_feature': 'total_rt_logs'}, \n",
    "                               axis=1, inplace=True)"
   ]
  },
  {
   "cell_type": "code",
   "execution_count": 11,
   "id": "d25ae17e",
   "metadata": {},
   "outputs": [
    {
     "data": {
      "image/png": "[encoded data removed]",
      "text/plain": [
       "<Figure size 432x288 with 1 Axes>"
      ]
     },
     "metadata": {
      "needs_background": "light"
     },
     "output_type": "display_data"
    },
    {
     "name": "stdout",
     "output_type": "stream",
     "text": [
      "Статистики для группы blocked == 1\n"
     ]
    },
    {
     "data": {
      "text/html": [
       "<div>\n",
       "<style scoped>\n",
       "    .dataframe tbody tr th:only-of-type {\n",
       "        vertical-align: middle;\n",
       "    }\n",
       "\n",
       "    .dataframe tbody tr th {\n",
       "        vertical-align: top;\n",
       "    }\n",
       "\n",
       "    .dataframe thead th {\n",
       "        text-align: right;\n",
       "    }\n",
       "</style>\n",
       "<table border=\"1\" class=\"dataframe\">\n",
       "  <thead>\n",
       "    <tr style=\"text-align: right;\">\n",
       "      <th></th>\n",
       "      <th>total_rt_logs</th>\n",
       "    </tr>\n",
       "  </thead>\n",
       "  <tbody>\n",
       "    <tr>\n",
       "      <th>count</th>\n",
       "      <td>156.000000</td>\n",
       "    </tr>\n",
       "    <tr>\n",
       "      <th>mean</th>\n",
       "      <td>3.134615</td>\n",
       "    </tr>\n",
       "    <tr>\n",
       "      <th>std</th>\n",
       "      <td>5.284288</td>\n",
       "    </tr>\n",
       "    <tr>\n",
       "      <th>min</th>\n",
       "      <td>0.000000</td>\n",
       "    </tr>\n",
       "    <tr>\n",
       "      <th>25%</th>\n",
       "      <td>1.000000</td>\n",
       "    </tr>\n",
       "    <tr>\n",
       "      <th>50%</th>\n",
       "      <td>1.000000</td>\n",
       "    </tr>\n",
       "    <tr>\n",
       "      <th>75%</th>\n",
       "      <td>3.000000</td>\n",
       "    </tr>\n",
       "    <tr>\n",
       "      <th>max</th>\n",
       "      <td>46.000000</td>\n",
       "    </tr>\n",
       "  </tbody>\n",
       "</table>\n",
       "</div>"
      ],
      "text/plain": [
       "       total_rt_logs\n",
       "count     156.000000\n",
       "mean        3.134615\n",
       "std         5.284288\n",
       "min         0.000000\n",
       "25%         1.000000\n",
       "50%         1.000000\n",
       "75%         3.000000\n",
       "max        46.000000"
      ]
     },
     "metadata": {},
     "output_type": "display_data"
    },
    {
     "name": "stdout",
     "output_type": "stream",
     "text": [
      "Медиана: 1.0\n",
      "% пропусков в признаке для группы 1:           \n",
      "77.7\n",
      "\n",
      "Статистики для группы blocked == 0\n"
     ]
    },
    {
     "data": {
      "text/html": [
       "<div>\n",
       "<style scoped>\n",
       "    .dataframe tbody tr th:only-of-type {\n",
       "        vertical-align: middle;\n",
       "    }\n",
       "\n",
       "    .dataframe tbody tr th {\n",
       "        vertical-align: top;\n",
       "    }\n",
       "\n",
       "    .dataframe thead th {\n",
       "        text-align: right;\n",
       "    }\n",
       "</style>\n",
       "<table border=\"1\" class=\"dataframe\">\n",
       "  <thead>\n",
       "    <tr style=\"text-align: right;\">\n",
       "      <th></th>\n",
       "      <th>total_rt_logs</th>\n",
       "    </tr>\n",
       "  </thead>\n",
       "  <tbody>\n",
       "    <tr>\n",
       "      <th>count</th>\n",
       "      <td>2733.000000</td>\n",
       "    </tr>\n",
       "    <tr>\n",
       "      <th>mean</th>\n",
       "      <td>3.129162</td>\n",
       "    </tr>\n",
       "    <tr>\n",
       "      <th>std</th>\n",
       "      <td>5.303505</td>\n",
       "    </tr>\n",
       "    <tr>\n",
       "      <th>min</th>\n",
       "      <td>0.000000</td>\n",
       "    </tr>\n",
       "    <tr>\n",
       "      <th>25%</th>\n",
       "      <td>1.000000</td>\n",
       "    </tr>\n",
       "    <tr>\n",
       "      <th>50%</th>\n",
       "      <td>1.000000</td>\n",
       "    </tr>\n",
       "    <tr>\n",
       "      <th>75%</th>\n",
       "      <td>4.000000</td>\n",
       "    </tr>\n",
       "    <tr>\n",
       "      <th>max</th>\n",
       "      <td>47.000000</td>\n",
       "    </tr>\n",
       "  </tbody>\n",
       "</table>\n",
       "</div>"
      ],
      "text/plain": [
       "       total_rt_logs\n",
       "count    2733.000000\n",
       "mean        3.129162\n",
       "std         5.303505\n",
       "min         0.000000\n",
       "25%         1.000000\n",
       "50%         1.000000\n",
       "75%         4.000000\n",
       "max        47.000000"
      ]
     },
     "metadata": {},
     "output_type": "display_data"
    },
    {
     "name": "stdout",
     "output_type": "stream",
     "text": [
      "Медиана: 1.0\n",
      "% пропусков в признаке для группы 0:            \n",
      "48.4\n"
     ]
    },
    {
     "data": {
      "text/plain": [
       "<AxesSubplot:xlabel='blocked', ylabel='total_rt_logs'>"
      ]
     },
     "execution_count": 11,
     "metadata": {},
     "output_type": "execute_result"
    }
   ],
   "source": [
    "schow_feature_boxplots(concurent_logs_features.query('total_rt_logs < 50'),'total_rt_logs', False)"
   ]
  },
  {
   "cell_type": "markdown",
   "id": "8faa97a6",
   "metadata": {},
   "source": [
    "Для группы оставшихся (0) более характерно большее количество запросов к rt.ru. "
   ]
  },
  {
   "cell_type": "code",
   "execution_count": 12,
   "id": "d80e150e",
   "metadata": {},
   "outputs": [
    {
     "data": {
      "image/png": "[encoded data removed]",
      "text/plain": [
       "<Figure size 432x288 with 1 Axes>"
      ]
     },
     "metadata": {
      "needs_background": "light"
     },
     "output_type": "display_data"
    },
    {
     "name": "stdout",
     "output_type": "stream",
     "text": [
      "Статистики для группы blocked == 1\n"
     ]
    },
    {
     "data": {
      "text/html": [
       "<div>\n",
       "<style scoped>\n",
       "    .dataframe tbody tr th:only-of-type {\n",
       "        vertical-align: middle;\n",
       "    }\n",
       "\n",
       "    .dataframe tbody tr th {\n",
       "        vertical-align: top;\n",
       "    }\n",
       "\n",
       "    .dataframe thead th {\n",
       "        text-align: right;\n",
       "    }\n",
       "</style>\n",
       "<table border=\"1\" class=\"dataframe\">\n",
       "  <thead>\n",
       "    <tr style=\"text-align: right;\">\n",
       "      <th></th>\n",
       "      <th>total_sampo_logs</th>\n",
       "    </tr>\n",
       "  </thead>\n",
       "  <tbody>\n",
       "    <tr>\n",
       "      <th>count</th>\n",
       "      <td>157.000000</td>\n",
       "    </tr>\n",
       "    <tr>\n",
       "      <th>mean</th>\n",
       "      <td>9.471338</td>\n",
       "    </tr>\n",
       "    <tr>\n",
       "      <th>std</th>\n",
       "      <td>14.478791</td>\n",
       "    </tr>\n",
       "    <tr>\n",
       "      <th>min</th>\n",
       "      <td>0.000000</td>\n",
       "    </tr>\n",
       "    <tr>\n",
       "      <th>25%</th>\n",
       "      <td>0.000000</td>\n",
       "    </tr>\n",
       "    <tr>\n",
       "      <th>50%</th>\n",
       "      <td>2.000000</td>\n",
       "    </tr>\n",
       "    <tr>\n",
       "      <th>75%</th>\n",
       "      <td>12.000000</td>\n",
       "    </tr>\n",
       "    <tr>\n",
       "      <th>max</th>\n",
       "      <td>74.000000</td>\n",
       "    </tr>\n",
       "  </tbody>\n",
       "</table>\n",
       "</div>"
      ],
      "text/plain": [
       "       total_sampo_logs\n",
       "count        157.000000\n",
       "mean           9.471338\n",
       "std           14.478791\n",
       "min            0.000000\n",
       "25%            0.000000\n",
       "50%            2.000000\n",
       "75%           12.000000\n",
       "max           74.000000"
      ]
     },
     "metadata": {},
     "output_type": "display_data"
    },
    {
     "name": "stdout",
     "output_type": "stream",
     "text": [
      "Медиана: 2.0\n",
      "% пропусков в признаке для группы 1:           \n",
      "77.5\n",
      "\n",
      "Статистики для группы blocked == 0\n"
     ]
    },
    {
     "data": {
      "text/html": [
       "<div>\n",
       "<style scoped>\n",
       "    .dataframe tbody tr th:only-of-type {\n",
       "        vertical-align: middle;\n",
       "    }\n",
       "\n",
       "    .dataframe tbody tr th {\n",
       "        vertical-align: top;\n",
       "    }\n",
       "\n",
       "    .dataframe thead th {\n",
       "        text-align: right;\n",
       "    }\n",
       "</style>\n",
       "<table border=\"1\" class=\"dataframe\">\n",
       "  <thead>\n",
       "    <tr style=\"text-align: right;\">\n",
       "      <th></th>\n",
       "      <th>total_sampo_logs</th>\n",
       "    </tr>\n",
       "  </thead>\n",
       "  <tbody>\n",
       "    <tr>\n",
       "      <th>count</th>\n",
       "      <td>2745.000000</td>\n",
       "    </tr>\n",
       "    <tr>\n",
       "      <th>mean</th>\n",
       "      <td>8.468852</td>\n",
       "    </tr>\n",
       "    <tr>\n",
       "      <th>std</th>\n",
       "      <td>19.199425</td>\n",
       "    </tr>\n",
       "    <tr>\n",
       "      <th>min</th>\n",
       "      <td>0.000000</td>\n",
       "    </tr>\n",
       "    <tr>\n",
       "      <th>25%</th>\n",
       "      <td>0.000000</td>\n",
       "    </tr>\n",
       "    <tr>\n",
       "      <th>50%</th>\n",
       "      <td>1.000000</td>\n",
       "    </tr>\n",
       "    <tr>\n",
       "      <th>75%</th>\n",
       "      <td>8.000000</td>\n",
       "    </tr>\n",
       "    <tr>\n",
       "      <th>max</th>\n",
       "      <td>185.000000</td>\n",
       "    </tr>\n",
       "  </tbody>\n",
       "</table>\n",
       "</div>"
      ],
      "text/plain": [
       "       total_sampo_logs\n",
       "count       2745.000000\n",
       "mean           8.468852\n",
       "std           19.199425\n",
       "min            0.000000\n",
       "25%            0.000000\n",
       "50%            1.000000\n",
       "75%            8.000000\n",
       "max          185.000000"
      ]
     },
     "metadata": {},
     "output_type": "display_data"
    },
    {
     "name": "stdout",
     "output_type": "stream",
     "text": [
      "Медиана: 1.0\n",
      "% пропусков в признаке для группы 0:            \n",
      "48.1\n"
     ]
    },
    {
     "data": {
      "text/plain": [
       "<AxesSubplot:xlabel='blocked', ylabel='total_sampo_logs'>"
      ]
     },
     "execution_count": 12,
     "metadata": {},
     "output_type": "execute_result"
    }
   ],
   "source": [
    "schow_feature_boxplots(concurent_logs_features.query('total_sampo_logs < 200'),\n",
    "                       'total_sampo_logs', False)"
   ]
  },
  {
   "cell_type": "markdown",
   "id": "5eee0660",
   "metadata": {},
   "source": [
    "Для группы оставшихся (0) также остается явным паттерн большего количества логов к sampo.ru. Однако для группы ушедших (1) постоянное количество запросов более широко, но это может быть вызвано в целом присутствием в наборе данных большего числа наблюдений с классом 1. \n",
    "\n",
    "Оба признака в модели избыточны. "
   ]
  },
  {
   "cell_type": "markdown",
   "id": "801ac5b5",
   "metadata": {},
   "source": [
    "**Признак факта регистрации лога конкуренов для contract_id.**\n"
   ]
  },
  {
   "cell_type": "code",
   "execution_count": 13,
   "id": "2c08671f",
   "metadata": {},
   "outputs": [],
   "source": [
    "id_with_registered_concurent_logs = list(concurent_logs_features.contract_id.values)"
   ]
  },
  {
   "cell_type": "code",
   "execution_count": 14,
   "id": "a0e56d26",
   "metadata": {},
   "outputs": [],
   "source": [
    "#Признак факта регистрации лога конкуренов для contract_id\n",
    "\n",
    "df_train['have_concurent_log'] = df_train['contract_id'].apply(\n",
    "                                  lambda x: 1 if x in id_with_registered_concurent_logs else 0)\n",
    "\n",
    "df_sample_solution['have_concurent_log'] = df_sample_solution['contract_id'].apply(\n",
    "                                   lambda x: 1 if x in id_with_registered_concurent_logs else 0)"
   ]
  },
  {
   "cell_type": "markdown",
   "id": "a1c1683d",
   "metadata": {},
   "source": [
    "**Признак количества зарегестрированных уникальных логов для contract_id**"
   ]
  },
  {
   "cell_type": "code",
   "execution_count": 15,
   "id": "1ecff66e",
   "metadata": {},
   "outputs": [
    {
     "name": "stdout",
     "output_type": "stream",
     "text": [
      "Нулевая гипотеза: нет связи между переменными и группами \n",
      "p value равно 1.0287554102267704e-48\n",
      "Отклонить нулевую гипотезу\n"
     ]
    }
   ],
   "source": [
    "#Анализ таблицы сопряженности\n",
    "data_to_chi2 = pd.crosstab(df_train.blocked, df_train.have_concurent_log)\n",
    "\n",
    "stat, p, dof, expected = chi2_contingency(data_to_chi2)\n",
    "    \n",
    "alpha = 0.05\n",
    "print('Нулевая гипотеза: нет связи между переменными и группами ')\n",
    "print ( \"p value равно \" + str (p))\n",
    "    \n",
    "if p <= alpha:\n",
    "    \n",
    "    print ('Отклонить нулевую гипотезу')\n",
    "        \n",
    "else :\n",
    "    print ('Нулевая гипотеза верна')\n",
    "    \n",
    "#Переменная оставлена"
   ]
  },
  {
   "cell_type": "code",
   "execution_count": 16,
   "id": "9fe03836",
   "metadata": {},
   "outputs": [],
   "source": [
    "concurent_logs_features['unique_concurents_logs_count'] = [len(i) \n",
    "                        for i in df_concurent_logs.groupby('contract_id')['url'].apply(set)]"
   ]
  },
  {
   "cell_type": "code",
   "execution_count": 17,
   "id": "9c73f33a",
   "metadata": {},
   "outputs": [
    {
     "data": {
      "text/html": [
       "<div>\n",
       "<style scoped>\n",
       "    .dataframe tbody tr th:only-of-type {\n",
       "        vertical-align: middle;\n",
       "    }\n",
       "\n",
       "    .dataframe tbody tr th {\n",
       "        vertical-align: top;\n",
       "    }\n",
       "\n",
       "    .dataframe thead th {\n",
       "        text-align: right;\n",
       "    }\n",
       "</style>\n",
       "<table border=\"1\" class=\"dataframe\">\n",
       "  <thead>\n",
       "    <tr style=\"text-align: right;\">\n",
       "      <th></th>\n",
       "      <th>contract_id</th>\n",
       "      <th>concurent_logs_count</th>\n",
       "      <th>concurent_logs_count_flag</th>\n",
       "      <th>total_sampo_logs</th>\n",
       "      <th>total_rt_logs</th>\n",
       "      <th>unique_concurents_logs_count</th>\n",
       "    </tr>\n",
       "  </thead>\n",
       "  <tbody>\n",
       "    <tr>\n",
       "      <th>0</th>\n",
       "      <td>3455</td>\n",
       "      <td>23</td>\n",
       "      <td>1</td>\n",
       "      <td>19</td>\n",
       "      <td>4</td>\n",
       "      <td>10</td>\n",
       "    </tr>\n",
       "    <tr>\n",
       "      <th>1</th>\n",
       "      <td>3458</td>\n",
       "      <td>1</td>\n",
       "      <td>0</td>\n",
       "      <td>0</td>\n",
       "      <td>1</td>\n",
       "      <td>1</td>\n",
       "    </tr>\n",
       "    <tr>\n",
       "      <th>2</th>\n",
       "      <td>3459</td>\n",
       "      <td>2</td>\n",
       "      <td>0</td>\n",
       "      <td>1</td>\n",
       "      <td>1</td>\n",
       "      <td>2</td>\n",
       "    </tr>\n",
       "    <tr>\n",
       "      <th>3</th>\n",
       "      <td>3460</td>\n",
       "      <td>4</td>\n",
       "      <td>0</td>\n",
       "      <td>4</td>\n",
       "      <td>0</td>\n",
       "      <td>3</td>\n",
       "    </tr>\n",
       "    <tr>\n",
       "      <th>4</th>\n",
       "      <td>3461</td>\n",
       "      <td>1</td>\n",
       "      <td>0</td>\n",
       "      <td>0</td>\n",
       "      <td>1</td>\n",
       "      <td>1</td>\n",
       "    </tr>\n",
       "  </tbody>\n",
       "</table>\n",
       "</div>"
      ],
      "text/plain": [
       "   contract_id  concurent_logs_count  concurent_logs_count_flag  \\\n",
       "0         3455                    23                          1   \n",
       "1         3458                     1                          0   \n",
       "2         3459                     2                          0   \n",
       "3         3460                     4                          0   \n",
       "4         3461                     1                          0   \n",
       "\n",
       "   total_sampo_logs  total_rt_logs  unique_concurents_logs_count  \n",
       "0                19              4                            10  \n",
       "1                 0              1                             1  \n",
       "2                 1              1                             2  \n",
       "3                 4              0                             3  \n",
       "4                 0              1                             1  "
      ]
     },
     "execution_count": 17,
     "metadata": {},
     "output_type": "execute_result"
    }
   ],
   "source": [
    "concurent_logs_features.head()"
   ]
  },
  {
   "cell_type": "code",
   "execution_count": 18,
   "id": "e43ddf04",
   "metadata": {},
   "outputs": [
    {
     "data": {
      "image/png": "[encoded data removed]",
      "text/plain": [
       "<Figure size 432x288 with 1 Axes>"
      ]
     },
     "metadata": {
      "needs_background": "light"
     },
     "output_type": "display_data"
    },
    {
     "name": "stdout",
     "output_type": "stream",
     "text": [
      "Статистики для группы blocked == 1\n"
     ]
    },
    {
     "data": {
      "text/html": [
       "<div>\n",
       "<style scoped>\n",
       "    .dataframe tbody tr th:only-of-type {\n",
       "        vertical-align: middle;\n",
       "    }\n",
       "\n",
       "    .dataframe tbody tr th {\n",
       "        vertical-align: top;\n",
       "    }\n",
       "\n",
       "    .dataframe thead th {\n",
       "        text-align: right;\n",
       "    }\n",
       "</style>\n",
       "<table border=\"1\" class=\"dataframe\">\n",
       "  <thead>\n",
       "    <tr style=\"text-align: right;\">\n",
       "      <th></th>\n",
       "      <th>unique_concurents_logs_count</th>\n",
       "    </tr>\n",
       "  </thead>\n",
       "  <tbody>\n",
       "    <tr>\n",
       "      <th>count</th>\n",
       "      <td>157.000000</td>\n",
       "    </tr>\n",
       "    <tr>\n",
       "      <th>mean</th>\n",
       "      <td>8.394904</td>\n",
       "    </tr>\n",
       "    <tr>\n",
       "      <th>std</th>\n",
       "      <td>9.926498</td>\n",
       "    </tr>\n",
       "    <tr>\n",
       "      <th>min</th>\n",
       "      <td>1.000000</td>\n",
       "    </tr>\n",
       "    <tr>\n",
       "      <th>25%</th>\n",
       "      <td>2.000000</td>\n",
       "    </tr>\n",
       "    <tr>\n",
       "      <th>50%</th>\n",
       "      <td>4.000000</td>\n",
       "    </tr>\n",
       "    <tr>\n",
       "      <th>75%</th>\n",
       "      <td>12.000000</td>\n",
       "    </tr>\n",
       "    <tr>\n",
       "      <th>max</th>\n",
       "      <td>71.000000</td>\n",
       "    </tr>\n",
       "  </tbody>\n",
       "</table>\n",
       "</div>"
      ],
      "text/plain": [
       "       unique_concurents_logs_count\n",
       "count                    157.000000\n",
       "mean                       8.394904\n",
       "std                        9.926498\n",
       "min                        1.000000\n",
       "25%                        2.000000\n",
       "50%                        4.000000\n",
       "75%                       12.000000\n",
       "max                       71.000000"
      ]
     },
     "metadata": {},
     "output_type": "display_data"
    },
    {
     "name": "stdout",
     "output_type": "stream",
     "text": [
      "Медиана: 4.0\n",
      "% пропусков в признаке для группы 1:           \n",
      "77.5\n",
      "\n",
      "Статистики для группы blocked == 0\n"
     ]
    },
    {
     "data": {
      "text/html": [
       "<div>\n",
       "<style scoped>\n",
       "    .dataframe tbody tr th:only-of-type {\n",
       "        vertical-align: middle;\n",
       "    }\n",
       "\n",
       "    .dataframe tbody tr th {\n",
       "        vertical-align: top;\n",
       "    }\n",
       "\n",
       "    .dataframe thead th {\n",
       "        text-align: right;\n",
       "    }\n",
       "</style>\n",
       "<table border=\"1\" class=\"dataframe\">\n",
       "  <thead>\n",
       "    <tr style=\"text-align: right;\">\n",
       "      <th></th>\n",
       "      <th>unique_concurents_logs_count</th>\n",
       "    </tr>\n",
       "  </thead>\n",
       "  <tbody>\n",
       "    <tr>\n",
       "      <th>count</th>\n",
       "      <td>2758.000000</td>\n",
       "    </tr>\n",
       "    <tr>\n",
       "      <th>mean</th>\n",
       "      <td>5.824148</td>\n",
       "    </tr>\n",
       "    <tr>\n",
       "      <th>std</th>\n",
       "      <td>7.505232</td>\n",
       "    </tr>\n",
       "    <tr>\n",
       "      <th>min</th>\n",
       "      <td>1.000000</td>\n",
       "    </tr>\n",
       "    <tr>\n",
       "      <th>25%</th>\n",
       "      <td>1.000000</td>\n",
       "    </tr>\n",
       "    <tr>\n",
       "      <th>50%</th>\n",
       "      <td>2.000000</td>\n",
       "    </tr>\n",
       "    <tr>\n",
       "      <th>75%</th>\n",
       "      <td>8.000000</td>\n",
       "    </tr>\n",
       "    <tr>\n",
       "      <th>max</th>\n",
       "      <td>70.000000</td>\n",
       "    </tr>\n",
       "  </tbody>\n",
       "</table>\n",
       "</div>"
      ],
      "text/plain": [
       "       unique_concurents_logs_count\n",
       "count                   2758.000000\n",
       "mean                       5.824148\n",
       "std                        7.505232\n",
       "min                        1.000000\n",
       "25%                        1.000000\n",
       "50%                        2.000000\n",
       "75%                        8.000000\n",
       "max                       70.000000"
      ]
     },
     "metadata": {},
     "output_type": "display_data"
    },
    {
     "name": "stdout",
     "output_type": "stream",
     "text": [
      "Медиана: 2.0\n",
      "% пропусков в признаке для группы 0:            \n",
      "47.9\n"
     ]
    },
    {
     "data": {
      "text/plain": [
       "<AxesSubplot:xlabel='blocked', ylabel='unique_concurents_logs_count'>"
      ]
     },
     "execution_count": 18,
     "metadata": {},
     "output_type": "execute_result"
    }
   ],
   "source": [
    "schow_feature_boxplots(feature_data=concurent_logs_features, feature='unique_concurents_logs_count', \n",
    "                       chi2=False)"
   ]
  },
  {
   "cell_type": "markdown",
   "id": "22a953c0",
   "metadata": {},
   "source": [
    "Количество уникальных запросов к доменам конкурентов для клиентов ушедших более широко. Учитывая, что количество запросов в целом при этом также стабильно широко, можно предположить, что:\n",
    "\n",
    "- у уходящих клиентов есть  определенный пул сайтов, на который они заходят в своей частотности, стало быть, возможно, с обогащением набора дынных выявится сами логи, которые более типовы для уходящих клиентов. \n",
    "- у остающихся клиентов пул сайтов более узок, однако при этом частота заходов наиболее подвережена к \"выбросам\" "
   ]
  },
  {
   "cell_type": "code",
   "execution_count": 19,
   "id": "224bd9c5",
   "metadata": {},
   "outputs": [],
   "source": [
    "df_train = df_train.merge(concurent_logs_features[['contract_id', 'unique_concurents_logs_count', \n",
    "                                                   'concurent_logs_count', 'concurent_logs_count_flag',\n",
    "                                                   'total_sampo_logs', 'total_rt_logs']], \n",
    "               on='contract_id', how='left').fillna(0) "
   ]
  },
  {
   "cell_type": "code",
   "execution_count": 20,
   "id": "bd0a781b",
   "metadata": {},
   "outputs": [],
   "source": [
    "df_sample_solution = df_sample_solution.merge(concurent_logs_features[['contract_id', 'unique_concurents_logs_count', \n",
    "                                                   'concurent_logs_count', 'concurent_logs_count_flag',\n",
    "                                                   'total_sampo_logs', 'total_rt_logs']], \n",
    "               on='contract_id', how='left').fillna(0)"
   ]
  },
  {
   "cell_type": "raw",
   "id": "69ce9024",
   "metadata": {},
   "source": [
    "df_concurent_logs['weekday'] = df_concurent_logs['date'].dt.weekday\n",
    "df_concurent_logs['week'] = df_concurent_logs['date'].dt.week\n",
    "df_concurent_logs['day'] = df_concurent_logs['date'].dt.day"
   ]
  },
  {
   "cell_type": "markdown",
   "id": "c76b5372",
   "metadata": {},
   "source": [
    "Признаки по дням и возможным словам не показались удовлетворительными. Тем более, что они есть только для 33% переменных целевого класса — лучше постараться выжать что-то более информативное. \n",
    "\n",
    "**Признак связанный с наиболее популярными ссылками**\n",
    "\n",
    "Ссылки наиболее популярны в генеральной совокупности данных. "
   ]
  },
  {
   "cell_type": "code",
   "execution_count": 21,
   "id": "cae8f5f2",
   "metadata": {},
   "outputs": [],
   "source": [
    "top_urls = list(df_concurent_logs['url'].value_counts().head(15).index)\n",
    "\n",
    "df_concurent_logs['top_logs_count'] = df_concurent_logs['url'].apply(\n",
    "                                   lambda x: 1 if x in top_urls else 0)"
   ]
  },
  {
   "cell_type": "code",
   "execution_count": 22,
   "id": "b38e1c3c",
   "metadata": {},
   "outputs": [],
   "source": [
    "concurent_logs_features = concurent_logs_features.merge(\n",
    "           df_concurent_logs[['contract_id', 'top_logs_count']].groupby('contract_id').sum().reset_index(), \n",
    "                                                    on='contract_id', how='left')"
   ]
  },
  {
   "cell_type": "code",
   "execution_count": 23,
   "id": "ea30c419",
   "metadata": {},
   "outputs": [
    {
     "data": {
      "image/png": "[encoded data removed]",
      "text/plain": [
       "<Figure size 432x288 with 1 Axes>"
      ]
     },
     "metadata": {
      "needs_background": "light"
     },
     "output_type": "display_data"
    },
    {
     "name": "stdout",
     "output_type": "stream",
     "text": [
      "Статистики для группы blocked == 1\n"
     ]
    },
    {
     "data": {
      "text/html": [
       "<div>\n",
       "<style scoped>\n",
       "    .dataframe tbody tr th:only-of-type {\n",
       "        vertical-align: middle;\n",
       "    }\n",
       "\n",
       "    .dataframe tbody tr th {\n",
       "        vertical-align: top;\n",
       "    }\n",
       "\n",
       "    .dataframe thead th {\n",
       "        text-align: right;\n",
       "    }\n",
       "</style>\n",
       "<table border=\"1\" class=\"dataframe\">\n",
       "  <thead>\n",
       "    <tr style=\"text-align: right;\">\n",
       "      <th></th>\n",
       "      <th>top_logs_count</th>\n",
       "    </tr>\n",
       "  </thead>\n",
       "  <tbody>\n",
       "    <tr>\n",
       "      <th>count</th>\n",
       "      <td>156.000000</td>\n",
       "    </tr>\n",
       "    <tr>\n",
       "      <th>mean</th>\n",
       "      <td>1.121795</td>\n",
       "    </tr>\n",
       "    <tr>\n",
       "      <th>std</th>\n",
       "      <td>1.942207</td>\n",
       "    </tr>\n",
       "    <tr>\n",
       "      <th>min</th>\n",
       "      <td>0.000000</td>\n",
       "    </tr>\n",
       "    <tr>\n",
       "      <th>25%</th>\n",
       "      <td>0.000000</td>\n",
       "    </tr>\n",
       "    <tr>\n",
       "      <th>50%</th>\n",
       "      <td>0.000000</td>\n",
       "    </tr>\n",
       "    <tr>\n",
       "      <th>75%</th>\n",
       "      <td>2.000000</td>\n",
       "    </tr>\n",
       "    <tr>\n",
       "      <th>max</th>\n",
       "      <td>9.000000</td>\n",
       "    </tr>\n",
       "  </tbody>\n",
       "</table>\n",
       "</div>"
      ],
      "text/plain": [
       "       top_logs_count\n",
       "count      156.000000\n",
       "mean         1.121795\n",
       "std          1.942207\n",
       "min          0.000000\n",
       "25%          0.000000\n",
       "50%          0.000000\n",
       "75%          2.000000\n",
       "max          9.000000"
      ]
     },
     "metadata": {},
     "output_type": "display_data"
    },
    {
     "name": "stdout",
     "output_type": "stream",
     "text": [
      "Медиана: 0.0\n",
      "% пропусков в признаке для группы 1:           \n",
      "77.7\n",
      "\n",
      "Статистики для группы blocked == 0\n"
     ]
    },
    {
     "data": {
      "text/html": [
       "<div>\n",
       "<style scoped>\n",
       "    .dataframe tbody tr th:only-of-type {\n",
       "        vertical-align: middle;\n",
       "    }\n",
       "\n",
       "    .dataframe tbody tr th {\n",
       "        vertical-align: top;\n",
       "    }\n",
       "\n",
       "    .dataframe thead th {\n",
       "        text-align: right;\n",
       "    }\n",
       "</style>\n",
       "<table border=\"1\" class=\"dataframe\">\n",
       "  <thead>\n",
       "    <tr style=\"text-align: right;\">\n",
       "      <th></th>\n",
       "      <th>top_logs_count</th>\n",
       "    </tr>\n",
       "  </thead>\n",
       "  <tbody>\n",
       "    <tr>\n",
       "      <th>count</th>\n",
       "      <td>2706.000000</td>\n",
       "    </tr>\n",
       "    <tr>\n",
       "      <th>mean</th>\n",
       "      <td>0.706578</td>\n",
       "    </tr>\n",
       "    <tr>\n",
       "      <th>std</th>\n",
       "      <td>1.808076</td>\n",
       "    </tr>\n",
       "    <tr>\n",
       "      <th>min</th>\n",
       "      <td>0.000000</td>\n",
       "    </tr>\n",
       "    <tr>\n",
       "      <th>25%</th>\n",
       "      <td>0.000000</td>\n",
       "    </tr>\n",
       "    <tr>\n",
       "      <th>50%</th>\n",
       "      <td>0.000000</td>\n",
       "    </tr>\n",
       "    <tr>\n",
       "      <th>75%</th>\n",
       "      <td>0.000000</td>\n",
       "    </tr>\n",
       "    <tr>\n",
       "      <th>max</th>\n",
       "      <td>14.000000</td>\n",
       "    </tr>\n",
       "  </tbody>\n",
       "</table>\n",
       "</div>"
      ],
      "text/plain": [
       "       top_logs_count\n",
       "count     2706.000000\n",
       "mean         0.706578\n",
       "std          1.808076\n",
       "min          0.000000\n",
       "25%          0.000000\n",
       "50%          0.000000\n",
       "75%          0.000000\n",
       "max         14.000000"
      ]
     },
     "metadata": {},
     "output_type": "display_data"
    },
    {
     "name": "stdout",
     "output_type": "stream",
     "text": [
      "Медиана: 0.0\n",
      "% пропусков в признаке для группы 0:            \n",
      "48.9\n"
     ]
    },
    {
     "data": {
      "text/plain": [
       "<AxesSubplot:xlabel='blocked', ylabel='top_logs_count'>"
      ]
     },
     "execution_count": 23,
     "metadata": {},
     "output_type": "execute_result"
    }
   ],
   "source": [
    "schow_feature_boxplots(concurent_logs_features.query('top_logs_count < 15'), 'top_logs_count')\n"
   ]
  },
  {
   "cell_type": "code",
   "execution_count": 24,
   "id": "4ce134dd",
   "metadata": {},
   "outputs": [],
   "source": [
    "#concurent_logs_features.merge(df_train, how='right').query('blocked == 1')['top_logs_count'].quantile(0.93)"
   ]
  },
  {
   "cell_type": "markdown",
   "id": "bd344ad0",
   "metadata": {},
   "source": [
    "Для группы оставшихся клиентов характерно частичное, хаотичное количество запросов к топовым доменам. При этом для ушедших оно более постоянно. \n",
    "\n",
    "Учитвая, что набор данных будет в пропусках заполнен нулями, на основе этого сделан призак \"количество уникальных логов не 0 и больше 5\", тк количество логов до 5 характерно для 93% ушедших клиентов. "
   ]
  },
  {
   "cell_type": "code",
   "execution_count": 25,
   "id": "0227f0a8",
   "metadata": {},
   "outputs": [],
   "source": [
    "concurent_logs_features['top_logs_count_notnull_more5'] = concurent_logs_features['top_logs_count'].apply(\n",
    "                                                            lambda x: 1 if x != 0 and x > 5 else 0)"
   ]
  },
  {
   "cell_type": "code",
   "execution_count": 26,
   "id": "12f116cc",
   "metadata": {},
   "outputs": [],
   "source": [
    "df_train = df_train.merge(concurent_logs_features[['contract_id', 'top_logs_count',\n",
    "                                                   'top_logs_count_notnull_more5']], how='left')\n",
    "\n",
    "df_sample_solution = df_sample_solution.merge(concurent_logs_features[['contract_id', 'top_logs_count',\n",
    "                                                   'top_logs_count_notnull_more5']], how='left')"
   ]
  },
  {
   "cell_type": "markdown",
   "id": "09531591",
   "metadata": {},
   "source": [
    "### Извлечение признаков из родных логов \n",
    "Извлечение признаков из логов, собираемых компанией. "
   ]
  },
  {
   "cell_type": "code",
   "execution_count": 27,
   "id": "3e3ffa3d",
   "metadata": {},
   "outputs": [
    {
     "data": {
      "text/html": [
       "<div>\n",
       "<style scoped>\n",
       "    .dataframe tbody tr th:only-of-type {\n",
       "        vertical-align: middle;\n",
       "    }\n",
       "\n",
       "    .dataframe tbody tr th {\n",
       "        vertical-align: top;\n",
       "    }\n",
       "\n",
       "    .dataframe thead th {\n",
       "        text-align: right;\n",
       "    }\n",
       "</style>\n",
       "<table border=\"1\" class=\"dataframe\">\n",
       "  <thead>\n",
       "    <tr style=\"text-align: right;\">\n",
       "      <th></th>\n",
       "      <th>contract_id</th>\n",
       "      <th>unique_relative_logs_count</th>\n",
       "    </tr>\n",
       "  </thead>\n",
       "  <tbody>\n",
       "    <tr>\n",
       "      <th>0</th>\n",
       "      <td>3453</td>\n",
       "      <td>1</td>\n",
       "    </tr>\n",
       "    <tr>\n",
       "      <th>1</th>\n",
       "      <td>3454</td>\n",
       "      <td>1</td>\n",
       "    </tr>\n",
       "    <tr>\n",
       "      <th>2</th>\n",
       "      <td>3456</td>\n",
       "      <td>4</td>\n",
       "    </tr>\n",
       "    <tr>\n",
       "      <th>3</th>\n",
       "      <td>3457</td>\n",
       "      <td>1</td>\n",
       "    </tr>\n",
       "    <tr>\n",
       "      <th>4</th>\n",
       "      <td>3458</td>\n",
       "      <td>2</td>\n",
       "    </tr>\n",
       "    <tr>\n",
       "      <th>...</th>\n",
       "      <td>...</td>\n",
       "      <td>...</td>\n",
       "    </tr>\n",
       "    <tr>\n",
       "      <th>4306</th>\n",
       "      <td>274601</td>\n",
       "      <td>5</td>\n",
       "    </tr>\n",
       "    <tr>\n",
       "      <th>4307</th>\n",
       "      <td>274710</td>\n",
       "      <td>7</td>\n",
       "    </tr>\n",
       "    <tr>\n",
       "      <th>4308</th>\n",
       "      <td>274782</td>\n",
       "      <td>5</td>\n",
       "    </tr>\n",
       "    <tr>\n",
       "      <th>4309</th>\n",
       "      <td>274786</td>\n",
       "      <td>4</td>\n",
       "    </tr>\n",
       "    <tr>\n",
       "      <th>4310</th>\n",
       "      <td>274918</td>\n",
       "      <td>1</td>\n",
       "    </tr>\n",
       "  </tbody>\n",
       "</table>\n",
       "<p>4311 rows × 2 columns</p>\n",
       "</div>"
      ],
      "text/plain": [
       "      contract_id  unique_relative_logs_count\n",
       "0            3453                           1\n",
       "1            3454                           1\n",
       "2            3456                           4\n",
       "3            3457                           1\n",
       "4            3458                           2\n",
       "...           ...                         ...\n",
       "4306       274601                           5\n",
       "4307       274710                           7\n",
       "4308       274782                           5\n",
       "4309       274786                           4\n",
       "4310       274918                           1\n",
       "\n",
       "[4311 rows x 2 columns]"
      ]
     },
     "execution_count": 27,
     "metadata": {},
     "output_type": "execute_result"
    }
   ],
   "source": [
    "#Базовые признаки количество уникальных логов\n",
    "\n",
    "relative_logs_features = pd.DataFrame(df_relative_logs.groupby('contract_id')['event_type'].apply(set))\n",
    "\n",
    "relative_logs_features['event_type'] = relative_logs_features['event_type'].apply(lambda x: len(x))\n",
    "relative_logs_features.rename({'event_type':'unique_relative_logs_count'}, axis=1, inplace=True)\n",
    "\n",
    "relative_logs_features = relative_logs_features.reset_index()\n",
    "relative_logs_features"
   ]
  },
  {
   "cell_type": "code",
   "execution_count": 28,
   "id": "ff15c693",
   "metadata": {},
   "outputs": [
    {
     "data": {
      "image/png": "[encoded data removed]",
      "text/plain": [
       "<Figure size 1152x576 with 1 Axes>"
      ]
     },
     "metadata": {
      "needs_background": "light"
     },
     "output_type": "display_data"
    }
   ],
   "source": [
    "to_crosstab = relative_logs_features.merge(df_train[['contract_id', \n",
    "                            'blocked']]).query('unique_relative_logs_count < 10')\n",
    "\n",
    "pd.crosstab(to_crosstab['unique_relative_logs_count'], to_crosstab['blocked']).plot(kind='bar', \n",
    "                                            figsize=(16, 8))\n",
    "\n",
    "plt.show()"
   ]
  },
  {
   "cell_type": "code",
   "execution_count": 29,
   "id": "0eef2270",
   "metadata": {},
   "outputs": [
    {
     "data": {
      "text/html": [
       "<div>\n",
       "<style scoped>\n",
       "    .dataframe tbody tr th:only-of-type {\n",
       "        vertical-align: middle;\n",
       "    }\n",
       "\n",
       "    .dataframe tbody tr th {\n",
       "        vertical-align: top;\n",
       "    }\n",
       "\n",
       "    .dataframe thead th {\n",
       "        text-align: right;\n",
       "    }\n",
       "</style>\n",
       "<table border=\"1\" class=\"dataframe\">\n",
       "  <thead>\n",
       "    <tr style=\"text-align: right;\">\n",
       "      <th></th>\n",
       "      <th>contract_id</th>\n",
       "      <th>unique_relative_logs_count</th>\n",
       "      <th>have_relative_log</th>\n",
       "      <th>relative_logs_count</th>\n",
       "    </tr>\n",
       "  </thead>\n",
       "  <tbody>\n",
       "    <tr>\n",
       "      <th>0</th>\n",
       "      <td>3453</td>\n",
       "      <td>1</td>\n",
       "      <td>1</td>\n",
       "      <td>1</td>\n",
       "    </tr>\n",
       "    <tr>\n",
       "      <th>1</th>\n",
       "      <td>3454</td>\n",
       "      <td>1</td>\n",
       "      <td>1</td>\n",
       "      <td>1</td>\n",
       "    </tr>\n",
       "    <tr>\n",
       "      <th>2</th>\n",
       "      <td>3456</td>\n",
       "      <td>4</td>\n",
       "      <td>1</td>\n",
       "      <td>4</td>\n",
       "    </tr>\n",
       "    <tr>\n",
       "      <th>3</th>\n",
       "      <td>3457</td>\n",
       "      <td>1</td>\n",
       "      <td>1</td>\n",
       "      <td>4</td>\n",
       "    </tr>\n",
       "    <tr>\n",
       "      <th>4</th>\n",
       "      <td>3458</td>\n",
       "      <td>2</td>\n",
       "      <td>1</td>\n",
       "      <td>23</td>\n",
       "    </tr>\n",
       "  </tbody>\n",
       "</table>\n",
       "</div>"
      ],
      "text/plain": [
       "   contract_id  unique_relative_logs_count  have_relative_log  \\\n",
       "0         3453                           1                  1   \n",
       "1         3454                           1                  1   \n",
       "2         3456                           4                  1   \n",
       "3         3457                           1                  1   \n",
       "4         3458                           2                  1   \n",
       "\n",
       "   relative_logs_count  \n",
       "0                    1  \n",
       "1                    1  \n",
       "2                    4  \n",
       "3                    4  \n",
       "4                   23  "
      ]
     },
     "execution_count": 29,
     "metadata": {},
     "output_type": "execute_result"
    }
   ],
   "source": [
    "#Признак регистрировались ли родные логи\n",
    "\n",
    "ids_with_logs = list(df_relative_logs.merge(df_train, how='left')['contract_id'])\n",
    "relative_logs_features['have_relative_log'] = relative_logs_features['contract_id'].apply(\n",
    "                                                        lambda x: 1 if x in ids_with_logs else 0)\n",
    "\n",
    "#Количество логов всего \n",
    "total_relative_logs_data = pd.DataFrame(data=df_relative_logs.groupby('contract_id')\n",
    "                                         ['event_type'].count()).reset_index()\n",
    "\n",
    "total_relative_logs_data.rename({'event_type':'relative_logs_count'}, axis=1, inplace=True)\n",
    "\n",
    "relative_logs_features = relative_logs_features.merge(total_relative_logs_data, how='outer')\n",
    "\n",
    "relative_logs_features.head()"
   ]
  },
  {
   "cell_type": "code",
   "execution_count": 30,
   "id": "3de0524c",
   "metadata": {},
   "outputs": [
    {
     "data": {
      "image/png": "[encoded data removed]",
      "text/plain": [
       "<Figure size 432x288 with 1 Axes>"
      ]
     },
     "metadata": {
      "needs_background": "light"
     },
     "output_type": "display_data"
    },
    {
     "name": "stdout",
     "output_type": "stream",
     "text": [
      "Статистики для группы blocked == 1\n"
     ]
    },
    {
     "data": {
      "text/html": [
       "<div>\n",
       "<style scoped>\n",
       "    .dataframe tbody tr th:only-of-type {\n",
       "        vertical-align: middle;\n",
       "    }\n",
       "\n",
       "    .dataframe tbody tr th {\n",
       "        vertical-align: top;\n",
       "    }\n",
       "\n",
       "    .dataframe thead th {\n",
       "        text-align: right;\n",
       "    }\n",
       "</style>\n",
       "<table border=\"1\" class=\"dataframe\">\n",
       "  <thead>\n",
       "    <tr style=\"text-align: right;\">\n",
       "      <th></th>\n",
       "      <th>relative_logs_count</th>\n",
       "    </tr>\n",
       "  </thead>\n",
       "  <tbody>\n",
       "    <tr>\n",
       "      <th>count</th>\n",
       "      <td>535.000000</td>\n",
       "    </tr>\n",
       "    <tr>\n",
       "      <th>mean</th>\n",
       "      <td>5.857944</td>\n",
       "    </tr>\n",
       "    <tr>\n",
       "      <th>std</th>\n",
       "      <td>5.569312</td>\n",
       "    </tr>\n",
       "    <tr>\n",
       "      <th>min</th>\n",
       "      <td>1.000000</td>\n",
       "    </tr>\n",
       "    <tr>\n",
       "      <th>25%</th>\n",
       "      <td>2.000000</td>\n",
       "    </tr>\n",
       "    <tr>\n",
       "      <th>50%</th>\n",
       "      <td>4.000000</td>\n",
       "    </tr>\n",
       "    <tr>\n",
       "      <th>75%</th>\n",
       "      <td>8.000000</td>\n",
       "    </tr>\n",
       "    <tr>\n",
       "      <th>max</th>\n",
       "      <td>32.000000</td>\n",
       "    </tr>\n",
       "  </tbody>\n",
       "</table>\n",
       "</div>"
      ],
      "text/plain": [
       "       relative_logs_count\n",
       "count           535.000000\n",
       "mean              5.857944\n",
       "std               5.569312\n",
       "min               1.000000\n",
       "25%               2.000000\n",
       "50%               4.000000\n",
       "75%               8.000000\n",
       "max              32.000000"
      ]
     },
     "metadata": {},
     "output_type": "display_data"
    },
    {
     "name": "stdout",
     "output_type": "stream",
     "text": [
      "Медиана: 4.0\n",
      "% пропусков в признаке для группы 1:           \n",
      "23.4\n",
      "\n",
      "Статистики для группы blocked == 0\n"
     ]
    },
    {
     "data": {
      "text/html": [
       "<div>\n",
       "<style scoped>\n",
       "    .dataframe tbody tr th:only-of-type {\n",
       "        vertical-align: middle;\n",
       "    }\n",
       "\n",
       "    .dataframe tbody tr th {\n",
       "        vertical-align: top;\n",
       "    }\n",
       "\n",
       "    .dataframe thead th {\n",
       "        text-align: right;\n",
       "    }\n",
       "</style>\n",
       "<table border=\"1\" class=\"dataframe\">\n",
       "  <thead>\n",
       "    <tr style=\"text-align: right;\">\n",
       "      <th></th>\n",
       "      <th>relative_logs_count</th>\n",
       "    </tr>\n",
       "  </thead>\n",
       "  <tbody>\n",
       "    <tr>\n",
       "      <th>count</th>\n",
       "      <td>3265.000000</td>\n",
       "    </tr>\n",
       "    <tr>\n",
       "      <th>mean</th>\n",
       "      <td>5.504441</td>\n",
       "    </tr>\n",
       "    <tr>\n",
       "      <th>std</th>\n",
       "      <td>5.549912</td>\n",
       "    </tr>\n",
       "    <tr>\n",
       "      <th>min</th>\n",
       "      <td>1.000000</td>\n",
       "    </tr>\n",
       "    <tr>\n",
       "      <th>25%</th>\n",
       "      <td>2.000000</td>\n",
       "    </tr>\n",
       "    <tr>\n",
       "      <th>50%</th>\n",
       "      <td>4.000000</td>\n",
       "    </tr>\n",
       "    <tr>\n",
       "      <th>75%</th>\n",
       "      <td>7.000000</td>\n",
       "    </tr>\n",
       "    <tr>\n",
       "      <th>max</th>\n",
       "      <td>49.000000</td>\n",
       "    </tr>\n",
       "  </tbody>\n",
       "</table>\n",
       "</div>"
      ],
      "text/plain": [
       "       relative_logs_count\n",
       "count          3265.000000\n",
       "mean              5.504441\n",
       "std               5.549912\n",
       "min               1.000000\n",
       "25%               2.000000\n",
       "50%               4.000000\n",
       "75%               7.000000\n",
       "max              49.000000"
      ]
     },
     "metadata": {},
     "output_type": "display_data"
    },
    {
     "name": "stdout",
     "output_type": "stream",
     "text": [
      "Медиана: 4.0\n",
      "% пропусков в признаке для группы 0:            \n",
      "38.3\n"
     ]
    },
    {
     "data": {
      "text/plain": [
       "<AxesSubplot:xlabel='blocked', ylabel='relative_logs_count'>"
      ]
     },
     "execution_count": 30,
     "metadata": {},
     "output_type": "execute_result"
    }
   ],
   "source": [
    "schow_feature_boxplots(relative_logs_features.query('relative_logs_count < 50'), feature='relative_logs_count')"
   ]
  },
  {
   "cell_type": "markdown",
   "id": "8608dad1",
   "metadata": {},
   "source": [
    "Клиенты остающейся (0) группы более подвержены резкому большему количеству запросов в компанию более 7ми. Клиенты уходящие имеют распределение более широкое по разбросу (от 8 до 2 наблюдений), но более постоянное. "
   ]
  },
  {
   "cell_type": "markdown",
   "id": "42d8ac84",
   "metadata": {},
   "source": [
    "**Извлечение признаков из природы логов.**\n",
    "\n",
    "На основе анализа были выбраны признаки-слова: \n",
    "\n",
    "- информер — у остающихся клиентов доля обращений по турбокнопке больше, чем в группе ушедших. В группе остающихся доля — 33%, в группе ушедших доля 19%  \n",
    "\n",
    "- бессмертие — у остающихся клиентов на данный запрос приходится 2% от общего количества логов, тогда как у уходящих 9%\n",
    "\n",
    "Для признаков:\n",
    "- забота, включение интернета на 20 минут, гарантированный платеж за деньги — поставлена гипотеза о влиянии частоты признаков на уход клиентов на основе вопросов:\n",
    "\n",
    "Могут ли остающиеся клиенты чаще обращаться в службу заботы и быть более лояльными? \\\n",
    "Могут ли клиенты, желающие уйти, чаще включать интернет лишь на 20 минут? \\\n",
    "Остается ли постоянным количество запросов на гарантированный платеж из месяца в новый месяц? (исследование разницы)"
   ]
  },
  {
   "cell_type": "code",
   "execution_count": 31,
   "id": "a2ea2e84",
   "metadata": {},
   "outputs": [],
   "source": [
    "df_relative_logs['immortality_in_url'] = df_relative_logs['event_type'].apply(\n",
    "                                        lambda x: 1 if 'бессмертие' in x.lower() else 0\n",
    "                                        )\n",
    "df_relative_logs['informer_in_url'] = df_relative_logs['event_type'].apply(\n",
    "                                        lambda x: 1 if 'информер' in x.lower() else 0\n",
    "                                        )\n",
    "\n",
    "df_relative_logs['care_in_url'] = df_relative_logs['event_type'].apply(\n",
    "                                        lambda x: 1 if 'заботы' in x else 0\n",
    "                                        )\n",
    "df_relative_logs['internet20min_in_url'] = df_relative_logs['event_type'].apply(\n",
    "                    lambda x: 1 if 'Включение интернета на 20 минут' in x else 0)\n",
    "\n",
    "df_relative_logs['guaranteed_pay_in_url'] = df_relative_logs['event_type'].apply(\n",
    "                    lambda x: 'Гарантированный платеж за деньги' in x)\n",
    "\n",
    "\n",
    "word_relative_logs_features = df_relative_logs[['contract_id', 'informer_in_url', 'immortality_in_url',\n",
    "                                                'care_in_url', 'internet20min_in_url',\n",
    "                                                'guaranteed_pay_in_url'\n",
    "                                                ]].groupby(\n",
    "                                             'contract_id').sum().reset_index()"
   ]
  },
  {
   "cell_type": "markdown",
   "id": "01bd6988",
   "metadata": {},
   "source": [
    "На основе анализа таблицы по собранным значениям, выявлено:\n",
    "\n",
    "- наибольшее количество запросов о бессмертии — 0. Следовательно данный признак, если и включать, то только в виде \"были ли запросы по логу \"виртуальное бессмертие\". \n",
    "\n",
    "- количество запросов по логу \"Информер ВК\" имеет схожее распределение в обоих группах. Отличие больше в том, что класса 1 меньше, что делает этот признак контринформативным, тем более что для данной структуры и природы данных необходим ресемплинг. "
   ]
  },
  {
   "cell_type": "code",
   "execution_count": 32,
   "id": "0999de52",
   "metadata": {},
   "outputs": [
    {
     "data": {
      "image/png": "[encoded data removed]",
      "text/plain": [
       "<Figure size 1152x576 with 1 Axes>"
      ]
     },
     "metadata": {
      "needs_background": "light"
     },
     "output_type": "display_data"
    }
   ],
   "source": [
    "to_crosstab = word_relative_logs_features.merge(df_train[['contract_id', \n",
    "                            'blocked']])\n",
    "\n",
    "pd.crosstab(to_crosstab['informer_in_url'], to_crosstab['blocked']).plot(kind='bar', \n",
    "                                            figsize=(16, 8))\n",
    "\n",
    "plt.show()\n",
    "\n",
    "word_relative_logs_features['informer_in_url'].value_counts()\n",
    "\n",
    "word_relative_logs_features.drop(['informer_in_url'], axis=1, inplace=True)"
   ]
  },
  {
   "cell_type": "code",
   "execution_count": 33,
   "id": "c9c5c4f8",
   "metadata": {},
   "outputs": [],
   "source": [
    "relative_logs_features = relative_logs_features.merge(word_relative_logs_features, how='outer')"
   ]
  },
  {
   "cell_type": "markdown",
   "id": "4ec0e6f5",
   "metadata": {},
   "source": [
    "**Анализ признака забота на данных для тренировки.** \n",
    "\n",
    "Во избежание повторных запросов, из набора данных здесь, так как идет работа со временем в том числе, убраны секунды и вновь убраны появившиеся дубликаты. "
   ]
  },
  {
   "cell_type": "code",
   "execution_count": 34,
   "id": "7ea309f3",
   "metadata": {},
   "outputs": [],
   "source": [
    "#выделение тренировочных id\n",
    "train_ids = list(df_train['contract_id'].values)\n",
    "\n",
    "#выделение месяца и дня\n",
    "df_relative_logs['month'] = df_relative_logs['event_date'].dt.month\n",
    "df_relative_logs['day'] = df_relative_logs['event_date'].dt.day\n",
    "\n",
    "#Чистка секунд и удаление новых дубликатов\n",
    "df_relative_logs['event_date_without_seconds'] = df_relative_logs['event_date'].dt.floor('Min')\n",
    "df_relative_logs.drop('event_date', inplace=True, axis=1)\n",
    "\n",
    "df_relative_logs.drop_duplicates(inplace=True)"
   ]
  },
  {
   "cell_type": "code",
   "execution_count": 35,
   "id": "cebc2e32",
   "metadata": {},
   "outputs": [
    {
     "name": "stderr",
     "output_type": "stream",
     "text": [
      "/Users/sad__sabrina/opt/anaconda3/lib/python3.9/site-packages/pandas/core/frame.py:5039: SettingWithCopyWarning: \n",
      "A value is trying to be set on a copy of a slice from a DataFrame\n",
      "\n",
      "See the caveats in the documentation: https://pandas.pydata.org/pandas-docs/stable/user_guide/indexing.html#returning-a-view-versus-a-copy\n",
      "  return super().rename(\n"
     ]
    }
   ],
   "source": [
    "#Выделение логов \n",
    "\n",
    "#Количество обращений в службу заботы о клиентах\n",
    "data_to_cares_feature = df_relative_logs.groupby(['contract_id', 'month']).agg(\n",
    "                              {'care_in_url': sum}\n",
    "                              ).reset_index()\n",
    "\n",
    "\n",
    "df_month3 = data_to_cares_feature.query('month == 3')\n",
    "df_month4 = data_to_cares_feature.query('month == 4')\n",
    "\n",
    "df_month3.rename({'month' : 'mart','care_in_url': 'mart_cares' }, axis=1, inplace=True)\n",
    "df_month4.rename({'month' : 'april','care_in_url':'april_cares'}, axis=1, inplace=True)\n",
    "\n",
    "cares_feature_data = df_month3.merge(df_month4, on='contract_id', how='outer').drop(['mart', 'april'], axis=1)\n",
    "\n",
    "\n",
    "\n",
    "#Суммарное количество логов за два месяца\n",
    "cares_feature_data['total_cares_logs_2_months'] = (cares_feature_data['mart_cares']+ \n",
    "                                                  cares_feature_data['april_cares'])\n",
    "\n"
   ]
  },
  {
   "cell_type": "code",
   "execution_count": 36,
   "id": "2a938a42",
   "metadata": {},
   "outputs": [],
   "source": [
    "#schow_feature_boxplots(cares_feature_data, feature='mart_cares')\n",
    "#schow_feature_boxplots(cares_feature_data, feature='april_cares')\n",
    "#schow_feature_boxplots(cares_feature_data, feature='total_cares_logs_2_months')"
   ]
  },
  {
   "cell_type": "markdown",
   "id": "3045a83c",
   "metadata": {},
   "source": [
    "Для ушедших клиетнтов видим более широкий характер распределения, однако приближение показвает, что основное количество обращений аккумулируется как раз в диапазоне от 0 до 1 за 2 месяца. \n",
    "\n",
    "В разрезе месяцев в марте клиенты ушедшие обращались с более резким паттерном к частым запросам, чем клиенты оставшиеся, следовательно возможно данный признак стоит рассмотреть на большем отрезке времени. \n",
    "\n",
    "На основе комбинации для оставшихся клиентов (0) виден более постоянным паттерн большего количества запросов. В качестве признаков можно рассмотреть: \n",
    "\n",
    "- общее количество запросов за 2 месяца\n",
    "- границу, \"больше 4х запросов\""
   ]
  },
  {
   "cell_type": "markdown",
   "id": "8c2c2757",
   "metadata": {},
   "source": [
    "**Анализ признака информер ВК**"
   ]
  },
  {
   "cell_type": "code",
   "execution_count": 37,
   "id": "2fb07c11",
   "metadata": {},
   "outputs": [
    {
     "data": {
      "text/html": [
       "<div>\n",
       "<style scoped>\n",
       "    .dataframe tbody tr th:only-of-type {\n",
       "        vertical-align: middle;\n",
       "    }\n",
       "\n",
       "    .dataframe tbody tr th {\n",
       "        vertical-align: top;\n",
       "    }\n",
       "\n",
       "    .dataframe thead th {\n",
       "        text-align: right;\n",
       "    }\n",
       "</style>\n",
       "<table border=\"1\" class=\"dataframe\">\n",
       "  <thead>\n",
       "    <tr style=\"text-align: right;\">\n",
       "      <th></th>\n",
       "      <th>contract_id</th>\n",
       "      <th>mart_informers</th>\n",
       "      <th>april_informers</th>\n",
       "      <th>total_informer_logs_2_months</th>\n",
       "    </tr>\n",
       "  </thead>\n",
       "  <tbody>\n",
       "    <tr>\n",
       "      <th>0</th>\n",
       "      <td>3453</td>\n",
       "      <td>1.0</td>\n",
       "      <td>NaN</td>\n",
       "      <td>NaN</td>\n",
       "    </tr>\n",
       "    <tr>\n",
       "      <th>1</th>\n",
       "      <td>3456</td>\n",
       "      <td>0.0</td>\n",
       "      <td>NaN</td>\n",
       "      <td>NaN</td>\n",
       "    </tr>\n",
       "    <tr>\n",
       "      <th>2</th>\n",
       "      <td>3457</td>\n",
       "      <td>3.0</td>\n",
       "      <td>1.0</td>\n",
       "      <td>4.0</td>\n",
       "    </tr>\n",
       "    <tr>\n",
       "      <th>3</th>\n",
       "      <td>3458</td>\n",
       "      <td>0.0</td>\n",
       "      <td>0.0</td>\n",
       "      <td>0.0</td>\n",
       "    </tr>\n",
       "    <tr>\n",
       "      <th>4</th>\n",
       "      <td>3459</td>\n",
       "      <td>0.0</td>\n",
       "      <td>3.0</td>\n",
       "      <td>3.0</td>\n",
       "    </tr>\n",
       "    <tr>\n",
       "      <th>...</th>\n",
       "      <td>...</td>\n",
       "      <td>...</td>\n",
       "      <td>...</td>\n",
       "      <td>...</td>\n",
       "    </tr>\n",
       "    <tr>\n",
       "      <th>4306</th>\n",
       "      <td>274601</td>\n",
       "      <td>NaN</td>\n",
       "      <td>1.0</td>\n",
       "      <td>NaN</td>\n",
       "    </tr>\n",
       "    <tr>\n",
       "      <th>4307</th>\n",
       "      <td>274710</td>\n",
       "      <td>NaN</td>\n",
       "      <td>1.0</td>\n",
       "      <td>NaN</td>\n",
       "    </tr>\n",
       "    <tr>\n",
       "      <th>4308</th>\n",
       "      <td>274782</td>\n",
       "      <td>NaN</td>\n",
       "      <td>0.0</td>\n",
       "      <td>NaN</td>\n",
       "    </tr>\n",
       "    <tr>\n",
       "      <th>4309</th>\n",
       "      <td>274786</td>\n",
       "      <td>NaN</td>\n",
       "      <td>2.0</td>\n",
       "      <td>NaN</td>\n",
       "    </tr>\n",
       "    <tr>\n",
       "      <th>4310</th>\n",
       "      <td>274918</td>\n",
       "      <td>NaN</td>\n",
       "      <td>0.0</td>\n",
       "      <td>NaN</td>\n",
       "    </tr>\n",
       "  </tbody>\n",
       "</table>\n",
       "<p>4311 rows × 4 columns</p>\n",
       "</div>"
      ],
      "text/plain": [
       "      contract_id  mart_informers  april_informers  \\\n",
       "0            3453             1.0              NaN   \n",
       "1            3456             0.0              NaN   \n",
       "2            3457             3.0              1.0   \n",
       "3            3458             0.0              0.0   \n",
       "4            3459             0.0              3.0   \n",
       "...           ...             ...              ...   \n",
       "4306       274601             NaN              1.0   \n",
       "4307       274710             NaN              1.0   \n",
       "4308       274782             NaN              0.0   \n",
       "4309       274786             NaN              2.0   \n",
       "4310       274918             NaN              0.0   \n",
       "\n",
       "      total_informer_logs_2_months  \n",
       "0                              NaN  \n",
       "1                              NaN  \n",
       "2                              4.0  \n",
       "3                              0.0  \n",
       "4                              3.0  \n",
       "...                            ...  \n",
       "4306                           NaN  \n",
       "4307                           NaN  \n",
       "4308                           NaN  \n",
       "4309                           NaN  \n",
       "4310                           NaN  \n",
       "\n",
       "[4311 rows x 4 columns]"
      ]
     },
     "execution_count": 37,
     "metadata": {},
     "output_type": "execute_result"
    }
   ],
   "source": [
    "#Суммарное количество по клиентам\n",
    "\n",
    "data_to_informer_feature = df_relative_logs.groupby(['contract_id', 'month']).agg(\n",
    "                              {'informer_in_url': sum}\n",
    "                              ).reset_index()\n",
    "\n",
    "#Обращения по запросу в месяц\n",
    "df_month3 = data_to_informer_feature.query('month == 3')\n",
    "df_month4 = data_to_informer_feature.query('month == 4')\n",
    "\n",
    "df_month3.rename({'month' : 'mart','informer_in_url': 'mart_informers' }, axis=1, inplace=True)\n",
    "df_month4.rename({'month' : 'april','informer_in_url':'april_informers'}, axis=1, inplace=True)\n",
    "\n",
    "\n",
    "informer_feature_data = df_month3.merge(df_month4, on='contract_id', how='outer').drop(['mart',\n",
    "                                                                 'april'], axis=1)\n",
    "#Обращения по запросу за 2 месяца\n",
    "informer_feature_data['total_informer_logs_2_months'] = (informer_feature_data['mart_informers']+ \n",
    "                                                          informer_feature_data['april_informers'])\n",
    "\n",
    "informer_feature_data"
   ]
  },
  {
   "cell_type": "code",
   "execution_count": 38,
   "id": "438ac78d",
   "metadata": {},
   "outputs": [
    {
     "data": {
      "image/png": "[encoded data removed]",
      "text/plain": [
       "<Figure size 432x288 with 1 Axes>"
      ]
     },
     "metadata": {
      "needs_background": "light"
     },
     "output_type": "display_data"
    },
    {
     "name": "stdout",
     "output_type": "stream",
     "text": [
      "Статистики для группы blocked == 1\n"
     ]
    },
    {
     "data": {
      "text/html": [
       "<div>\n",
       "<style scoped>\n",
       "    .dataframe tbody tr th:only-of-type {\n",
       "        vertical-align: middle;\n",
       "    }\n",
       "\n",
       "    .dataframe tbody tr th {\n",
       "        vertical-align: top;\n",
       "    }\n",
       "\n",
       "    .dataframe thead th {\n",
       "        text-align: right;\n",
       "    }\n",
       "</style>\n",
       "<table border=\"1\" class=\"dataframe\">\n",
       "  <thead>\n",
       "    <tr style=\"text-align: right;\">\n",
       "      <th></th>\n",
       "      <th>total_informer_logs_2_months</th>\n",
       "    </tr>\n",
       "  </thead>\n",
       "  <tbody>\n",
       "    <tr>\n",
       "      <th>count</th>\n",
       "      <td>178.000000</td>\n",
       "    </tr>\n",
       "    <tr>\n",
       "      <th>mean</th>\n",
       "      <td>1.859551</td>\n",
       "    </tr>\n",
       "    <tr>\n",
       "      <th>std</th>\n",
       "      <td>1.656163</td>\n",
       "    </tr>\n",
       "    <tr>\n",
       "      <th>min</th>\n",
       "      <td>0.000000</td>\n",
       "    </tr>\n",
       "    <tr>\n",
       "      <th>25%</th>\n",
       "      <td>0.000000</td>\n",
       "    </tr>\n",
       "    <tr>\n",
       "      <th>50%</th>\n",
       "      <td>2.000000</td>\n",
       "    </tr>\n",
       "    <tr>\n",
       "      <th>75%</th>\n",
       "      <td>3.000000</td>\n",
       "    </tr>\n",
       "    <tr>\n",
       "      <th>max</th>\n",
       "      <td>6.000000</td>\n",
       "    </tr>\n",
       "  </tbody>\n",
       "</table>\n",
       "</div>"
      ],
      "text/plain": [
       "       total_informer_logs_2_months\n",
       "count                    178.000000\n",
       "mean                       1.859551\n",
       "std                        1.656163\n",
       "min                        0.000000\n",
       "25%                        0.000000\n",
       "50%                        2.000000\n",
       "75%                        3.000000\n",
       "max                        6.000000"
      ]
     },
     "metadata": {},
     "output_type": "display_data"
    },
    {
     "name": "stdout",
     "output_type": "stream",
     "text": [
      "Медиана: 2.0\n",
      "% пропусков в признаке для группы 1:           \n",
      "74.5\n",
      "\n",
      "Статистики для группы blocked == 0\n"
     ]
    },
    {
     "data": {
      "text/html": [
       "<div>\n",
       "<style scoped>\n",
       "    .dataframe tbody tr th:only-of-type {\n",
       "        vertical-align: middle;\n",
       "    }\n",
       "\n",
       "    .dataframe tbody tr th {\n",
       "        vertical-align: top;\n",
       "    }\n",
       "\n",
       "    .dataframe thead th {\n",
       "        text-align: right;\n",
       "    }\n",
       "</style>\n",
       "<table border=\"1\" class=\"dataframe\">\n",
       "  <thead>\n",
       "    <tr style=\"text-align: right;\">\n",
       "      <th></th>\n",
       "      <th>total_informer_logs_2_months</th>\n",
       "    </tr>\n",
       "  </thead>\n",
       "  <tbody>\n",
       "    <tr>\n",
       "      <th>count</th>\n",
       "      <td>1686.000000</td>\n",
       "    </tr>\n",
       "    <tr>\n",
       "      <th>mean</th>\n",
       "      <td>2.613286</td>\n",
       "    </tr>\n",
       "    <tr>\n",
       "      <th>std</th>\n",
       "      <td>1.978499</td>\n",
       "    </tr>\n",
       "    <tr>\n",
       "      <th>min</th>\n",
       "      <td>0.000000</td>\n",
       "    </tr>\n",
       "    <tr>\n",
       "      <th>25%</th>\n",
       "      <td>1.000000</td>\n",
       "    </tr>\n",
       "    <tr>\n",
       "      <th>50%</th>\n",
       "      <td>3.000000</td>\n",
       "    </tr>\n",
       "    <tr>\n",
       "      <th>75%</th>\n",
       "      <td>4.000000</td>\n",
       "    </tr>\n",
       "    <tr>\n",
       "      <th>max</th>\n",
       "      <td>7.000000</td>\n",
       "    </tr>\n",
       "  </tbody>\n",
       "</table>\n",
       "</div>"
      ],
      "text/plain": [
       "       total_informer_logs_2_months\n",
       "count                   1686.000000\n",
       "mean                       2.613286\n",
       "std                        1.978499\n",
       "min                        0.000000\n",
       "25%                        1.000000\n",
       "50%                        3.000000\n",
       "75%                        4.000000\n",
       "max                        7.000000"
      ]
     },
     "metadata": {},
     "output_type": "display_data"
    },
    {
     "name": "stdout",
     "output_type": "stream",
     "text": [
      "Медиана: 3.0\n",
      "% пропусков в признаке для группы 0:            \n",
      "68.2\n"
     ]
    },
    {
     "data": {
      "text/plain": [
       "<AxesSubplot:xlabel='blocked', ylabel='total_informer_logs_2_months'>"
      ]
     },
     "execution_count": 38,
     "metadata": {},
     "output_type": "execute_result"
    }
   ],
   "source": [
    "schow_feature_boxplots(informer_feature_data, 'total_informer_logs_2_months')"
   ]
  },
  {
   "cell_type": "markdown",
   "id": "4c4d9264",
   "metadata": {},
   "source": [
    "В разрезе отдельных признаков по месяцам информативности нет. В разрезе суммы видно, что остающиеся (0) клиенты чаще образащаются по информеру **не 1 раз** за два месяца. На пробу взята граница отсечения и признак \"более 3х обращений за 2 месяца\""
   ]
  },
  {
   "cell_type": "code",
   "execution_count": 39,
   "id": "2a7ae9f6",
   "metadata": {},
   "outputs": [],
   "source": [
    "informer_feature_data['total_informer_logs_2_months_more3'] =  informer_feature_data[\n",
    "    'total_informer_logs_2_months'].apply(lambda x: 1 if x >=3 else 0)"
   ]
  },
  {
   "cell_type": "markdown",
   "id": "42a129d6",
   "metadata": {},
   "source": [
    "**Анализ признака гарантированный платеж**"
   ]
  },
  {
   "cell_type": "code",
   "execution_count": 40,
   "id": "099a0f96",
   "metadata": {},
   "outputs": [],
   "source": [
    "guaranteed_pay_month_df = pd.pivot_table(df_relative_logs.query('guaranteed_pay_in_url == 1'), columns='month', index='contract_id',\n",
    "               values='event_date_without_seconds', aggfunc='count') #.fillna(0).reset_index()\n",
    "\n",
    "guaranteed_pay_month_df['difference_in_pay_logs'] = (guaranteed_pay_month_df[3] - guaranteed_pay_month_df[4])"
   ]
  },
  {
   "cell_type": "code",
   "execution_count": 41,
   "id": "8bb6b0ad",
   "metadata": {},
   "outputs": [
    {
     "data": {
      "image/png": "[encoded data removed]",
      "text/plain": [
       "<Figure size 432x288 with 1 Axes>"
      ]
     },
     "metadata": {
      "needs_background": "light"
     },
     "output_type": "display_data"
    },
    {
     "name": "stdout",
     "output_type": "stream",
     "text": [
      "Статистики для группы blocked == 1\n"
     ]
    },
    {
     "data": {
      "text/html": [
       "<div>\n",
       "<style scoped>\n",
       "    .dataframe tbody tr th:only-of-type {\n",
       "        vertical-align: middle;\n",
       "    }\n",
       "\n",
       "    .dataframe tbody tr th {\n",
       "        vertical-align: top;\n",
       "    }\n",
       "\n",
       "    .dataframe thead th {\n",
       "        text-align: right;\n",
       "    }\n",
       "</style>\n",
       "<table border=\"1\" class=\"dataframe\">\n",
       "  <thead>\n",
       "    <tr style=\"text-align: right;\">\n",
       "      <th></th>\n",
       "      <th>difference_in_pay_logs</th>\n",
       "    </tr>\n",
       "  </thead>\n",
       "  <tbody>\n",
       "    <tr>\n",
       "      <th>count</th>\n",
       "      <td>33.000000</td>\n",
       "    </tr>\n",
       "    <tr>\n",
       "      <th>mean</th>\n",
       "      <td>1.000000</td>\n",
       "    </tr>\n",
       "    <tr>\n",
       "      <th>std</th>\n",
       "      <td>1.785357</td>\n",
       "    </tr>\n",
       "    <tr>\n",
       "      <th>min</th>\n",
       "      <td>-3.000000</td>\n",
       "    </tr>\n",
       "    <tr>\n",
       "      <th>25%</th>\n",
       "      <td>0.000000</td>\n",
       "    </tr>\n",
       "    <tr>\n",
       "      <th>50%</th>\n",
       "      <td>1.000000</td>\n",
       "    </tr>\n",
       "    <tr>\n",
       "      <th>75%</th>\n",
       "      <td>2.000000</td>\n",
       "    </tr>\n",
       "    <tr>\n",
       "      <th>max</th>\n",
       "      <td>5.000000</td>\n",
       "    </tr>\n",
       "  </tbody>\n",
       "</table>\n",
       "</div>"
      ],
      "text/plain": [
       "       difference_in_pay_logs\n",
       "count               33.000000\n",
       "mean                 1.000000\n",
       "std                  1.785357\n",
       "min                 -3.000000\n",
       "25%                  0.000000\n",
       "50%                  1.000000\n",
       "75%                  2.000000\n",
       "max                  5.000000"
      ]
     },
     "metadata": {},
     "output_type": "display_data"
    },
    {
     "name": "stdout",
     "output_type": "stream",
     "text": [
      "Медиана: 1.0\n",
      "% пропусков в признаке для группы 1:           \n",
      "95.3\n",
      "\n",
      "Статистики для группы blocked == 0\n"
     ]
    },
    {
     "data": {
      "text/html": [
       "<div>\n",
       "<style scoped>\n",
       "    .dataframe tbody tr th:only-of-type {\n",
       "        vertical-align: middle;\n",
       "    }\n",
       "\n",
       "    .dataframe tbody tr th {\n",
       "        vertical-align: top;\n",
       "    }\n",
       "\n",
       "    .dataframe thead th {\n",
       "        text-align: right;\n",
       "    }\n",
       "</style>\n",
       "<table border=\"1\" class=\"dataframe\">\n",
       "  <thead>\n",
       "    <tr style=\"text-align: right;\">\n",
       "      <th></th>\n",
       "      <th>difference_in_pay_logs</th>\n",
       "    </tr>\n",
       "  </thead>\n",
       "  <tbody>\n",
       "    <tr>\n",
       "      <th>count</th>\n",
       "      <td>301.000000</td>\n",
       "    </tr>\n",
       "    <tr>\n",
       "      <th>mean</th>\n",
       "      <td>0.119601</td>\n",
       "    </tr>\n",
       "    <tr>\n",
       "      <th>std</th>\n",
       "      <td>1.444177</td>\n",
       "    </tr>\n",
       "    <tr>\n",
       "      <th>min</th>\n",
       "      <td>-4.000000</td>\n",
       "    </tr>\n",
       "    <tr>\n",
       "      <th>25%</th>\n",
       "      <td>-1.000000</td>\n",
       "    </tr>\n",
       "    <tr>\n",
       "      <th>50%</th>\n",
       "      <td>0.000000</td>\n",
       "    </tr>\n",
       "    <tr>\n",
       "      <th>75%</th>\n",
       "      <td>1.000000</td>\n",
       "    </tr>\n",
       "    <tr>\n",
       "      <th>max</th>\n",
       "      <td>6.000000</td>\n",
       "    </tr>\n",
       "  </tbody>\n",
       "</table>\n",
       "</div>"
      ],
      "text/plain": [
       "       difference_in_pay_logs\n",
       "count              301.000000\n",
       "mean                 0.119601\n",
       "std                  1.444177\n",
       "min                 -4.000000\n",
       "25%                 -1.000000\n",
       "50%                  0.000000\n",
       "75%                  1.000000\n",
       "max                  6.000000"
      ]
     },
     "metadata": {},
     "output_type": "display_data"
    },
    {
     "name": "stdout",
     "output_type": "stream",
     "text": [
      "Медиана: 0.0\n",
      "% пропусков в признаке для группы 0:            \n",
      "94.3\n"
     ]
    },
    {
     "data": {
      "text/plain": [
       "<AxesSubplot:xlabel='blocked', ylabel='difference_in_pay_logs'>"
      ]
     },
     "execution_count": 41,
     "metadata": {},
     "output_type": "execute_result"
    }
   ],
   "source": [
    "schow_feature_boxplots(guaranteed_pay_month_df, 'difference_in_pay_logs')"
   ]
  },
  {
   "cell_type": "markdown",
   "id": "f42f51e2",
   "metadata": {},
   "source": [
    "Различные уровни распределений явно видны визуально. "
   ]
  },
  {
   "cell_type": "markdown",
   "id": "6b804ce9",
   "metadata": {},
   "source": [
    "**Анализ логов по одним и тем-же запросам в разрезе 1го id** "
   ]
  },
  {
   "cell_type": "code",
   "execution_count": 42,
   "id": "2c3bce1e",
   "metadata": {},
   "outputs": [],
   "source": [
    "analysis_sample = df_relative_logs.query('contract_id in @train_ids').query('informer_in_url == 0')\n",
    "\n",
    "repeated_logs_сount = pd.pivot_table(analysis_sample, index=['contract_id'],\n",
    "               columns='event_type', values='event_date_without_seconds', aggfunc='count').fillna(0).replace(1.0, 0.0)\n",
    "\n",
    "repeated_logs_сount['repeated_logs_count'] = [sum(repeated_logs_сount.iloc[i, :] != 0) \n",
    "                                              for i in range(0, len(repeated_logs_сount))]"
   ]
  },
  {
   "cell_type": "code",
   "execution_count": 43,
   "id": "a817a23e",
   "metadata": {},
   "outputs": [],
   "source": [
    "repeated_logs_сount = repeated_logs_сount.iloc[:, :].reset_index()\n",
    "#schow_feature_boxplots(repeated_logs_сount, 'repeated_logs_count')"
   ]
  },
  {
   "cell_type": "markdown",
   "id": "3240951b",
   "metadata": {},
   "source": [
    "Распределение признаков в сумме визуально не выглядит иформативным. Рассмотрим разрез по месяцам. "
   ]
  },
  {
   "cell_type": "code",
   "execution_count": 44,
   "id": "d1a29718",
   "metadata": {},
   "outputs": [],
   "source": [
    "repeated_logs_сount_month_data = pd.pivot_table(analysis_sample, index=['contract_id', 'month'],\n",
    "               columns='event_type', values='event_date_without_seconds', \n",
    "               aggfunc='count').fillna(0).reset_index().replace(1.0, 0.0)\n",
    "\n",
    "repeated_logs_сount_month_data['repeated_logs_count'] = [sum(repeated_logs_сount_month_data.iloc[i, 2:] != 0) \n",
    "                                    for i in range(0, len(repeated_logs_сount_month_data))]\n",
    "\n",
    "#Среднее количество повторяющихся логов по месяцам\n",
    "repeated_logs_сount_month_data = repeated_logs_сount_month_data[['contract_id', 'month', \n",
    "                                                                 'repeated_logs_count']]\n",
    "\n",
    "repeated_logs_сount_month_data.columns = ['contract_id', 'month', 'repeated_logs_count']"
   ]
  },
  {
   "cell_type": "code",
   "execution_count": 45,
   "id": "19c630c8",
   "metadata": {},
   "outputs": [
    {
     "name": "stderr",
     "output_type": "stream",
     "text": [
      "/Users/sad__sabrina/opt/anaconda3/lib/python3.9/site-packages/pandas/core/frame.py:5039: SettingWithCopyWarning: \n",
      "A value is trying to be set on a copy of a slice from a DataFrame\n",
      "\n",
      "See the caveats in the documentation: https://pandas.pydata.org/pandas-docs/stable/user_guide/indexing.html#returning-a-view-versus-a-copy\n",
      "  return super().rename(\n"
     ]
    },
    {
     "data": {
      "text/html": [
       "<div>\n",
       "<style scoped>\n",
       "    .dataframe tbody tr th:only-of-type {\n",
       "        vertical-align: middle;\n",
       "    }\n",
       "\n",
       "    .dataframe tbody tr th {\n",
       "        vertical-align: top;\n",
       "    }\n",
       "\n",
       "    .dataframe thead th {\n",
       "        text-align: right;\n",
       "    }\n",
       "</style>\n",
       "<table border=\"1\" class=\"dataframe\">\n",
       "  <thead>\n",
       "    <tr style=\"text-align: right;\">\n",
       "      <th></th>\n",
       "      <th>contract_id</th>\n",
       "      <th>mart_repeated_logs_count</th>\n",
       "      <th>april_repeated_logs_count</th>\n",
       "      <th>mean_repeated_logs_2_months</th>\n",
       "    </tr>\n",
       "  </thead>\n",
       "  <tbody>\n",
       "    <tr>\n",
       "      <th>0</th>\n",
       "      <td>7780</td>\n",
       "      <td>0.0</td>\n",
       "      <td>2.0</td>\n",
       "      <td>1.0</td>\n",
       "    </tr>\n",
       "    <tr>\n",
       "      <th>1</th>\n",
       "      <td>7785</td>\n",
       "      <td>0.0</td>\n",
       "      <td>0.0</td>\n",
       "      <td>0.0</td>\n",
       "    </tr>\n",
       "    <tr>\n",
       "      <th>2</th>\n",
       "      <td>7795</td>\n",
       "      <td>1.0</td>\n",
       "      <td>0.0</td>\n",
       "      <td>0.5</td>\n",
       "    </tr>\n",
       "    <tr>\n",
       "      <th>3</th>\n",
       "      <td>7807</td>\n",
       "      <td>0.0</td>\n",
       "      <td>0.0</td>\n",
       "      <td>0.0</td>\n",
       "    </tr>\n",
       "    <tr>\n",
       "      <th>4</th>\n",
       "      <td>7819</td>\n",
       "      <td>0.0</td>\n",
       "      <td>0.0</td>\n",
       "      <td>0.0</td>\n",
       "    </tr>\n",
       "  </tbody>\n",
       "</table>\n",
       "</div>"
      ],
      "text/plain": [
       "   contract_id  mart_repeated_logs_count  april_repeated_logs_count  \\\n",
       "0         7780                       0.0                        2.0   \n",
       "1         7785                       0.0                        0.0   \n",
       "2         7795                       1.0                        0.0   \n",
       "3         7807                       0.0                        0.0   \n",
       "4         7819                       0.0                        0.0   \n",
       "\n",
       "   mean_repeated_logs_2_months  \n",
       "0                          1.0  \n",
       "1                          0.0  \n",
       "2                          0.5  \n",
       "3                          0.0  \n",
       "4                          0.0  "
      ]
     },
     "execution_count": 45,
     "metadata": {},
     "output_type": "execute_result"
    }
   ],
   "source": [
    "repeated_logs_сount_mart_data = repeated_logs_сount_month_data.query('month == 3')\n",
    "repeated_logs_сount_april_data = repeated_logs_сount_month_data.query('month == 4')\n",
    "\n",
    "\n",
    "repeated_logs_сount_mart_data.rename({'repeated_logs_count': 'mart_repeated_logs_count'}, axis=1, inplace=True\n",
    "                  )\n",
    "\n",
    "\n",
    "repeated_logs_сount_april_data.rename({'repeated_logs_count': 'april_repeated_logs_count'}, axis=1, inplace=True\n",
    "                  )\n",
    "\n",
    "\n",
    "repeated_logs_сount_month_data = repeated_logs_сount_mart_data[['contract_id', 'mart_repeated_logs_count']].merge(\n",
    "                            repeated_logs_сount_april_data[['contract_id', 'april_repeated_logs_count']],\n",
    "                             how='outer').fillna(0)\n",
    "\n",
    "repeated_logs_сount_month_data['mean_repeated_logs_2_months'] = (repeated_logs_сount_month_data['mart_repeated_logs_count'] + \n",
    "                                                           repeated_logs_сount_month_data['april_repeated_logs_count']\n",
    "                                                            )/2\n",
    "\n",
    "repeated_logs_сount_month_data.head()"
   ]
  },
  {
   "cell_type": "code",
   "execution_count": 46,
   "id": "26216c35",
   "metadata": {},
   "outputs": [
    {
     "data": {
      "image/png": "[encoded data removed]",
      "text/plain": [
       "<Figure size 432x288 with 1 Axes>"
      ]
     },
     "metadata": {
      "needs_background": "light"
     },
     "output_type": "display_data"
    },
    {
     "name": "stdout",
     "output_type": "stream",
     "text": [
      "Статистики для группы blocked == 1\n"
     ]
    },
    {
     "data": {
      "text/html": [
       "<div>\n",
       "<style scoped>\n",
       "    .dataframe tbody tr th:only-of-type {\n",
       "        vertical-align: middle;\n",
       "    }\n",
       "\n",
       "    .dataframe tbody tr th {\n",
       "        vertical-align: top;\n",
       "    }\n",
       "\n",
       "    .dataframe thead th {\n",
       "        text-align: right;\n",
       "    }\n",
       "</style>\n",
       "<table border=\"1\" class=\"dataframe\">\n",
       "  <thead>\n",
       "    <tr style=\"text-align: right;\">\n",
       "      <th></th>\n",
       "      <th>mean_repeated_logs_2_months</th>\n",
       "    </tr>\n",
       "  </thead>\n",
       "  <tbody>\n",
       "    <tr>\n",
       "      <th>count</th>\n",
       "      <td>505.000000</td>\n",
       "    </tr>\n",
       "    <tr>\n",
       "      <th>mean</th>\n",
       "      <td>0.320792</td>\n",
       "    </tr>\n",
       "    <tr>\n",
       "      <th>std</th>\n",
       "      <td>0.535508</td>\n",
       "    </tr>\n",
       "    <tr>\n",
       "      <th>min</th>\n",
       "      <td>0.000000</td>\n",
       "    </tr>\n",
       "    <tr>\n",
       "      <th>25%</th>\n",
       "      <td>0.000000</td>\n",
       "    </tr>\n",
       "    <tr>\n",
       "      <th>50%</th>\n",
       "      <td>0.000000</td>\n",
       "    </tr>\n",
       "    <tr>\n",
       "      <th>75%</th>\n",
       "      <td>0.500000</td>\n",
       "    </tr>\n",
       "    <tr>\n",
       "      <th>max</th>\n",
       "      <td>3.500000</td>\n",
       "    </tr>\n",
       "  </tbody>\n",
       "</table>\n",
       "</div>"
      ],
      "text/plain": [
       "       mean_repeated_logs_2_months\n",
       "count                   505.000000\n",
       "mean                      0.320792\n",
       "std                       0.535508\n",
       "min                       0.000000\n",
       "25%                       0.000000\n",
       "50%                       0.000000\n",
       "75%                       0.500000\n",
       "max                       3.500000"
      ]
     },
     "metadata": {},
     "output_type": "display_data"
    },
    {
     "name": "stdout",
     "output_type": "stream",
     "text": [
      "Медиана: 0.0\n",
      "% пропусков в признаке для группы 1:           \n",
      "27.7\n",
      "\n",
      "Статистики для группы blocked == 0\n"
     ]
    },
    {
     "data": {
      "text/html": [
       "<div>\n",
       "<style scoped>\n",
       "    .dataframe tbody tr th:only-of-type {\n",
       "        vertical-align: middle;\n",
       "    }\n",
       "\n",
       "    .dataframe tbody tr th {\n",
       "        vertical-align: top;\n",
       "    }\n",
       "\n",
       "    .dataframe thead th {\n",
       "        text-align: right;\n",
       "    }\n",
       "</style>\n",
       "<table border=\"1\" class=\"dataframe\">\n",
       "  <thead>\n",
       "    <tr style=\"text-align: right;\">\n",
       "      <th></th>\n",
       "      <th>mean_repeated_logs_2_months</th>\n",
       "    </tr>\n",
       "  </thead>\n",
       "  <tbody>\n",
       "    <tr>\n",
       "      <th>count</th>\n",
       "      <td>2540.000000</td>\n",
       "    </tr>\n",
       "    <tr>\n",
       "      <th>mean</th>\n",
       "      <td>0.360039</td>\n",
       "    </tr>\n",
       "    <tr>\n",
       "      <th>std</th>\n",
       "      <td>0.578598</td>\n",
       "    </tr>\n",
       "    <tr>\n",
       "      <th>min</th>\n",
       "      <td>0.000000</td>\n",
       "    </tr>\n",
       "    <tr>\n",
       "      <th>25%</th>\n",
       "      <td>0.000000</td>\n",
       "    </tr>\n",
       "    <tr>\n",
       "      <th>50%</th>\n",
       "      <td>0.000000</td>\n",
       "    </tr>\n",
       "    <tr>\n",
       "      <th>75%</th>\n",
       "      <td>0.500000</td>\n",
       "    </tr>\n",
       "    <tr>\n",
       "      <th>max</th>\n",
       "      <td>5.500000</td>\n",
       "    </tr>\n",
       "  </tbody>\n",
       "</table>\n",
       "</div>"
      ],
      "text/plain": [
       "       mean_repeated_logs_2_months\n",
       "count                  2540.000000\n",
       "mean                      0.360039\n",
       "std                       0.578598\n",
       "min                       0.000000\n",
       "25%                       0.000000\n",
       "50%                       0.000000\n",
       "75%                       0.500000\n",
       "max                       5.500000"
      ]
     },
     "metadata": {},
     "output_type": "display_data"
    },
    {
     "name": "stdout",
     "output_type": "stream",
     "text": [
      "Медиана: 0.0\n",
      "% пропусков в признаке для группы 0:            \n",
      "52.0\n"
     ]
    },
    {
     "data": {
      "text/plain": [
       "<AxesSubplot:xlabel='blocked', ylabel='mean_repeated_logs_2_months'>"
      ]
     },
     "execution_count": 46,
     "metadata": {},
     "output_type": "execute_result"
    }
   ],
   "source": [
    "schow_feature_boxplots(repeated_logs_сount_month_data, 'mean_repeated_logs_2_months')"
   ]
  },
  {
   "cell_type": "markdown",
   "id": "5c176c26",
   "metadata": {},
   "source": [
    "В разрезе месяцев распределения также не информативны, однако для попытки уловить разницу взяты признаки \"общее количество повторяющихся логов за 2 меясца\", \"среднее количество повторяющихся логов за два месяца\". "
   ]
  },
  {
   "cell_type": "code",
   "execution_count": 47,
   "id": "72dce43e",
   "metadata": {},
   "outputs": [],
   "source": [
    "repeated_logs_сount_month_data['total_repeated_logs_2_months'] = (repeated_logs_сount_month_data['mart_repeated_logs_count'] + \n",
    "                                                           repeated_logs_сount_month_data['april_repeated_logs_count']\n",
    "                                                            )"
   ]
  },
  {
   "cell_type": "code",
   "execution_count": 48,
   "id": "cbec48cd",
   "metadata": {},
   "outputs": [
    {
     "data": {
      "image/png": "[encoded data removed]",
      "text/plain": [
       "<Figure size 432x288 with 1 Axes>"
      ]
     },
     "metadata": {
      "needs_background": "light"
     },
     "output_type": "display_data"
    },
    {
     "name": "stdout",
     "output_type": "stream",
     "text": [
      "Статистики для группы blocked == 1\n"
     ]
    },
    {
     "data": {
      "text/html": [
       "<div>\n",
       "<style scoped>\n",
       "    .dataframe tbody tr th:only-of-type {\n",
       "        vertical-align: middle;\n",
       "    }\n",
       "\n",
       "    .dataframe tbody tr th {\n",
       "        vertical-align: top;\n",
       "    }\n",
       "\n",
       "    .dataframe thead th {\n",
       "        text-align: right;\n",
       "    }\n",
       "</style>\n",
       "<table border=\"1\" class=\"dataframe\">\n",
       "  <thead>\n",
       "    <tr style=\"text-align: right;\">\n",
       "      <th></th>\n",
       "      <th>total_repeated_logs_2_months</th>\n",
       "    </tr>\n",
       "  </thead>\n",
       "  <tbody>\n",
       "    <tr>\n",
       "      <th>count</th>\n",
       "      <td>505.000000</td>\n",
       "    </tr>\n",
       "    <tr>\n",
       "      <th>mean</th>\n",
       "      <td>0.641584</td>\n",
       "    </tr>\n",
       "    <tr>\n",
       "      <th>std</th>\n",
       "      <td>1.071017</td>\n",
       "    </tr>\n",
       "    <tr>\n",
       "      <th>min</th>\n",
       "      <td>0.000000</td>\n",
       "    </tr>\n",
       "    <tr>\n",
       "      <th>25%</th>\n",
       "      <td>0.000000</td>\n",
       "    </tr>\n",
       "    <tr>\n",
       "      <th>50%</th>\n",
       "      <td>0.000000</td>\n",
       "    </tr>\n",
       "    <tr>\n",
       "      <th>75%</th>\n",
       "      <td>1.000000</td>\n",
       "    </tr>\n",
       "    <tr>\n",
       "      <th>max</th>\n",
       "      <td>7.000000</td>\n",
       "    </tr>\n",
       "  </tbody>\n",
       "</table>\n",
       "</div>"
      ],
      "text/plain": [
       "       total_repeated_logs_2_months\n",
       "count                    505.000000\n",
       "mean                       0.641584\n",
       "std                        1.071017\n",
       "min                        0.000000\n",
       "25%                        0.000000\n",
       "50%                        0.000000\n",
       "75%                        1.000000\n",
       "max                        7.000000"
      ]
     },
     "metadata": {},
     "output_type": "display_data"
    },
    {
     "name": "stdout",
     "output_type": "stream",
     "text": [
      "Медиана: 0.0\n",
      "% пропусков в признаке для группы 1:           \n",
      "27.7\n",
      "\n",
      "Статистики для группы blocked == 0\n"
     ]
    },
    {
     "data": {
      "text/html": [
       "<div>\n",
       "<style scoped>\n",
       "    .dataframe tbody tr th:only-of-type {\n",
       "        vertical-align: middle;\n",
       "    }\n",
       "\n",
       "    .dataframe tbody tr th {\n",
       "        vertical-align: top;\n",
       "    }\n",
       "\n",
       "    .dataframe thead th {\n",
       "        text-align: right;\n",
       "    }\n",
       "</style>\n",
       "<table border=\"1\" class=\"dataframe\">\n",
       "  <thead>\n",
       "    <tr style=\"text-align: right;\">\n",
       "      <th></th>\n",
       "      <th>total_repeated_logs_2_months</th>\n",
       "    </tr>\n",
       "  </thead>\n",
       "  <tbody>\n",
       "    <tr>\n",
       "      <th>count</th>\n",
       "      <td>2540.000000</td>\n",
       "    </tr>\n",
       "    <tr>\n",
       "      <th>mean</th>\n",
       "      <td>0.720079</td>\n",
       "    </tr>\n",
       "    <tr>\n",
       "      <th>std</th>\n",
       "      <td>1.157195</td>\n",
       "    </tr>\n",
       "    <tr>\n",
       "      <th>min</th>\n",
       "      <td>0.000000</td>\n",
       "    </tr>\n",
       "    <tr>\n",
       "      <th>25%</th>\n",
       "      <td>0.000000</td>\n",
       "    </tr>\n",
       "    <tr>\n",
       "      <th>50%</th>\n",
       "      <td>0.000000</td>\n",
       "    </tr>\n",
       "    <tr>\n",
       "      <th>75%</th>\n",
       "      <td>1.000000</td>\n",
       "    </tr>\n",
       "    <tr>\n",
       "      <th>max</th>\n",
       "      <td>11.000000</td>\n",
       "    </tr>\n",
       "  </tbody>\n",
       "</table>\n",
       "</div>"
      ],
      "text/plain": [
       "       total_repeated_logs_2_months\n",
       "count                   2540.000000\n",
       "mean                       0.720079\n",
       "std                        1.157195\n",
       "min                        0.000000\n",
       "25%                        0.000000\n",
       "50%                        0.000000\n",
       "75%                        1.000000\n",
       "max                       11.000000"
      ]
     },
     "metadata": {},
     "output_type": "display_data"
    },
    {
     "name": "stdout",
     "output_type": "stream",
     "text": [
      "Медиана: 0.0\n",
      "% пропусков в признаке для группы 0:            \n",
      "52.0\n"
     ]
    },
    {
     "data": {
      "text/plain": [
       "<AxesSubplot:xlabel='blocked', ylabel='total_repeated_logs_2_months'>"
      ]
     },
     "execution_count": 48,
     "metadata": {},
     "output_type": "execute_result"
    }
   ],
   "source": [
    "schow_feature_boxplots(repeated_logs_сount_month_data, 'total_repeated_logs_2_months')"
   ]
  },
  {
   "cell_type": "markdown",
   "id": "175d05e0",
   "metadata": {},
   "source": [
    "**Сборка наборов данных по признакам**"
   ]
  },
  {
   "cell_type": "code",
   "execution_count": 49,
   "id": "35af4496",
   "metadata": {},
   "outputs": [
    {
     "data": {
      "text/html": [
       "<div>\n",
       "<style scoped>\n",
       "    .dataframe tbody tr th:only-of-type {\n",
       "        vertical-align: middle;\n",
       "    }\n",
       "\n",
       "    .dataframe tbody tr th {\n",
       "        vertical-align: top;\n",
       "    }\n",
       "\n",
       "    .dataframe thead th {\n",
       "        text-align: right;\n",
       "    }\n",
       "</style>\n",
       "<table border=\"1\" class=\"dataframe\">\n",
       "  <thead>\n",
       "    <tr style=\"text-align: right;\">\n",
       "      <th></th>\n",
       "      <th>contract_id</th>\n",
       "      <th>unique_relative_logs_count</th>\n",
       "      <th>have_relative_log</th>\n",
       "      <th>relative_logs_count</th>\n",
       "      <th>immortality_in_url</th>\n",
       "      <th>care_in_url</th>\n",
       "      <th>internet20min_in_url</th>\n",
       "      <th>guaranteed_pay_in_url</th>\n",
       "    </tr>\n",
       "  </thead>\n",
       "  <tbody>\n",
       "    <tr>\n",
       "      <th>0</th>\n",
       "      <td>3453</td>\n",
       "      <td>1</td>\n",
       "      <td>1</td>\n",
       "      <td>1</td>\n",
       "      <td>0</td>\n",
       "      <td>0</td>\n",
       "      <td>0</td>\n",
       "      <td>0</td>\n",
       "    </tr>\n",
       "    <tr>\n",
       "      <th>1</th>\n",
       "      <td>3454</td>\n",
       "      <td>1</td>\n",
       "      <td>1</td>\n",
       "      <td>1</td>\n",
       "      <td>0</td>\n",
       "      <td>0</td>\n",
       "      <td>0</td>\n",
       "      <td>0</td>\n",
       "    </tr>\n",
       "    <tr>\n",
       "      <th>2</th>\n",
       "      <td>3456</td>\n",
       "      <td>4</td>\n",
       "      <td>1</td>\n",
       "      <td>4</td>\n",
       "      <td>0</td>\n",
       "      <td>0</td>\n",
       "      <td>0</td>\n",
       "      <td>0</td>\n",
       "    </tr>\n",
       "    <tr>\n",
       "      <th>3</th>\n",
       "      <td>3457</td>\n",
       "      <td>1</td>\n",
       "      <td>1</td>\n",
       "      <td>4</td>\n",
       "      <td>0</td>\n",
       "      <td>0</td>\n",
       "      <td>0</td>\n",
       "      <td>0</td>\n",
       "    </tr>\n",
       "    <tr>\n",
       "      <th>4</th>\n",
       "      <td>3458</td>\n",
       "      <td>2</td>\n",
       "      <td>1</td>\n",
       "      <td>23</td>\n",
       "      <td>0</td>\n",
       "      <td>0</td>\n",
       "      <td>3</td>\n",
       "      <td>20</td>\n",
       "    </tr>\n",
       "    <tr>\n",
       "      <th>...</th>\n",
       "      <td>...</td>\n",
       "      <td>...</td>\n",
       "      <td>...</td>\n",
       "      <td>...</td>\n",
       "      <td>...</td>\n",
       "      <td>...</td>\n",
       "      <td>...</td>\n",
       "      <td>...</td>\n",
       "    </tr>\n",
       "    <tr>\n",
       "      <th>4306</th>\n",
       "      <td>274601</td>\n",
       "      <td>5</td>\n",
       "      <td>1</td>\n",
       "      <td>6</td>\n",
       "      <td>0</td>\n",
       "      <td>2</td>\n",
       "      <td>1</td>\n",
       "      <td>0</td>\n",
       "    </tr>\n",
       "    <tr>\n",
       "      <th>4307</th>\n",
       "      <td>274710</td>\n",
       "      <td>7</td>\n",
       "      <td>1</td>\n",
       "      <td>7</td>\n",
       "      <td>0</td>\n",
       "      <td>0</td>\n",
       "      <td>0</td>\n",
       "      <td>0</td>\n",
       "    </tr>\n",
       "    <tr>\n",
       "      <th>4308</th>\n",
       "      <td>274782</td>\n",
       "      <td>5</td>\n",
       "      <td>1</td>\n",
       "      <td>8</td>\n",
       "      <td>0</td>\n",
       "      <td>4</td>\n",
       "      <td>0</td>\n",
       "      <td>0</td>\n",
       "    </tr>\n",
       "    <tr>\n",
       "      <th>4309</th>\n",
       "      <td>274786</td>\n",
       "      <td>4</td>\n",
       "      <td>1</td>\n",
       "      <td>9</td>\n",
       "      <td>0</td>\n",
       "      <td>5</td>\n",
       "      <td>1</td>\n",
       "      <td>0</td>\n",
       "    </tr>\n",
       "    <tr>\n",
       "      <th>4310</th>\n",
       "      <td>274918</td>\n",
       "      <td>1</td>\n",
       "      <td>1</td>\n",
       "      <td>1</td>\n",
       "      <td>0</td>\n",
       "      <td>0</td>\n",
       "      <td>0</td>\n",
       "      <td>0</td>\n",
       "    </tr>\n",
       "  </tbody>\n",
       "</table>\n",
       "<p>4311 rows × 8 columns</p>\n",
       "</div>"
      ],
      "text/plain": [
       "      contract_id  unique_relative_logs_count  have_relative_log  \\\n",
       "0            3453                           1                  1   \n",
       "1            3454                           1                  1   \n",
       "2            3456                           4                  1   \n",
       "3            3457                           1                  1   \n",
       "4            3458                           2                  1   \n",
       "...           ...                         ...                ...   \n",
       "4306       274601                           5                  1   \n",
       "4307       274710                           7                  1   \n",
       "4308       274782                           5                  1   \n",
       "4309       274786                           4                  1   \n",
       "4310       274918                           1                  1   \n",
       "\n",
       "      relative_logs_count  immortality_in_url  care_in_url  \\\n",
       "0                       1                   0            0   \n",
       "1                       1                   0            0   \n",
       "2                       4                   0            0   \n",
       "3                       4                   0            0   \n",
       "4                      23                   0            0   \n",
       "...                   ...                 ...          ...   \n",
       "4306                    6                   0            2   \n",
       "4307                    7                   0            0   \n",
       "4308                    8                   0            4   \n",
       "4309                    9                   0            5   \n",
       "4310                    1                   0            0   \n",
       "\n",
       "      internet20min_in_url  guaranteed_pay_in_url  \n",
       "0                        0                      0  \n",
       "1                        0                      0  \n",
       "2                        0                      0  \n",
       "3                        0                      0  \n",
       "4                        3                     20  \n",
       "...                    ...                    ...  \n",
       "4306                     1                      0  \n",
       "4307                     0                      0  \n",
       "4308                     0                      0  \n",
       "4309                     1                      0  \n",
       "4310                     0                      0  \n",
       "\n",
       "[4311 rows x 8 columns]"
      ]
     },
     "execution_count": 49,
     "metadata": {},
     "output_type": "execute_result"
    }
   ],
   "source": [
    "relative_logs_features"
   ]
  },
  {
   "cell_type": "code",
   "execution_count": 50,
   "id": "3df4c64b",
   "metadata": {},
   "outputs": [],
   "source": [
    "#Присоединение care\n",
    "\n",
    "relative_logs_features = relative_logs_features.merge(\n",
    "                            cares_feature_data[['contract_id', 'total_cares_logs_2_months']], \n",
    "                            how='left').fillna(0)\n",
    "\n",
    "#Присоеднинение informer\n",
    "relative_logs_features = relative_logs_features.merge(\n",
    "                            informer_feature_data[['contract_id', 'total_informer_logs_2_months',\n",
    "                            'total_informer_logs_2_months_more3']], \n",
    "                            how='left').fillna(0)\n",
    "\n",
    "##Присоеднинение pay\n",
    "relative_logs_features = relative_logs_features.merge(\n",
    "                            guaranteed_pay_month_df.reset_index()[['contract_id', 'difference_in_pay_logs']], \n",
    "                            how='left').fillna(0)"
   ]
  },
  {
   "cell_type": "code",
   "execution_count": 51,
   "id": "8b8935da",
   "metadata": {},
   "outputs": [],
   "source": [
    "#Присоеднинение repeated_logs\n",
    "relative_logs_features = relative_logs_features.merge(\n",
    "                            repeated_logs_сount_month_data[['contract_id', 'mean_repeated_logs_2_months',\n",
    "                                                           'total_repeated_logs_2_months']], \n",
    "                            how='left').fillna(0)\n",
    "\n",
    "relative_logs_features = relative_logs_features.merge(\n",
    "                            repeated_logs_сount[['contract_id', 'repeated_logs_count']], \n",
    "                            how='left').fillna(0)"
   ]
  },
  {
   "cell_type": "markdown",
   "id": "7c11225f",
   "metadata": {},
   "source": [
    "**Признак: количество повторяющихся запросов в день**"
   ]
  },
  {
   "cell_type": "code",
   "execution_count": 52,
   "id": "a16004ab",
   "metadata": {},
   "outputs": [],
   "source": [
    "repeated_logs_in_day = pd.pivot_table(df_relative_logs.query('contract_id in @train_ids'), \n",
    "               index='contract_id', values='event_type', columns='day', aggfunc='count'\n",
    "                                     ).fillna(0).replace(1.0, 0).reset_index()\n",
    "\n",
    "repeated_logs_in_day['days_with_repeated_logs_count'] = [\n",
    "    sum(repeated_logs_in_day.iloc[i, 1:] != 0) for i in range(0, len(repeated_logs_in_day))]"
   ]
  },
  {
   "cell_type": "code",
   "execution_count": 53,
   "id": "93323e58",
   "metadata": {},
   "outputs": [
    {
     "data": {
      "image/png": "[encoded data removed]",
      "text/plain": [
       "<Figure size 432x288 with 1 Axes>"
      ]
     },
     "metadata": {
      "needs_background": "light"
     },
     "output_type": "display_data"
    },
    {
     "name": "stdout",
     "output_type": "stream",
     "text": [
      "Статистики для группы blocked == 1\n"
     ]
    },
    {
     "data": {
      "text/html": [
       "<div>\n",
       "<style scoped>\n",
       "    .dataframe tbody tr th:only-of-type {\n",
       "        vertical-align: middle;\n",
       "    }\n",
       "\n",
       "    .dataframe tbody tr th {\n",
       "        vertical-align: top;\n",
       "    }\n",
       "\n",
       "    .dataframe thead th {\n",
       "        text-align: right;\n",
       "    }\n",
       "</style>\n",
       "<table border=\"1\" class=\"dataframe\">\n",
       "  <thead>\n",
       "    <tr style=\"text-align: right;\">\n",
       "      <th></th>\n",
       "      <th>days_with_repeated_logs_count</th>\n",
       "    </tr>\n",
       "  </thead>\n",
       "  <tbody>\n",
       "    <tr>\n",
       "      <th>count</th>\n",
       "      <td>537.000000</td>\n",
       "    </tr>\n",
       "    <tr>\n",
       "      <th>mean</th>\n",
       "      <td>1.327747</td>\n",
       "    </tr>\n",
       "    <tr>\n",
       "      <th>std</th>\n",
       "      <td>2.020564</td>\n",
       "    </tr>\n",
       "    <tr>\n",
       "      <th>min</th>\n",
       "      <td>0.000000</td>\n",
       "    </tr>\n",
       "    <tr>\n",
       "      <th>25%</th>\n",
       "      <td>0.000000</td>\n",
       "    </tr>\n",
       "    <tr>\n",
       "      <th>50%</th>\n",
       "      <td>1.000000</td>\n",
       "    </tr>\n",
       "    <tr>\n",
       "      <th>75%</th>\n",
       "      <td>2.000000</td>\n",
       "    </tr>\n",
       "    <tr>\n",
       "      <th>max</th>\n",
       "      <td>31.000000</td>\n",
       "    </tr>\n",
       "  </tbody>\n",
       "</table>\n",
       "</div>"
      ],
      "text/plain": [
       "       days_with_repeated_logs_count\n",
       "count                     537.000000\n",
       "mean                        1.327747\n",
       "std                         2.020564\n",
       "min                         0.000000\n",
       "25%                         0.000000\n",
       "50%                         1.000000\n",
       "75%                         2.000000\n",
       "max                        31.000000"
      ]
     },
     "metadata": {},
     "output_type": "display_data"
    },
    {
     "name": "stdout",
     "output_type": "stream",
     "text": [
      "Медиана: 1.0\n",
      "% пропусков в признаке для группы 1:           \n",
      "23.1\n",
      "\n",
      "Статистики для группы blocked == 0\n"
     ]
    },
    {
     "data": {
      "text/html": [
       "<div>\n",
       "<style scoped>\n",
       "    .dataframe tbody tr th:only-of-type {\n",
       "        vertical-align: middle;\n",
       "    }\n",
       "\n",
       "    .dataframe tbody tr th {\n",
       "        vertical-align: top;\n",
       "    }\n",
       "\n",
       "    .dataframe thead th {\n",
       "        text-align: right;\n",
       "    }\n",
       "</style>\n",
       "<table border=\"1\" class=\"dataframe\">\n",
       "  <thead>\n",
       "    <tr style=\"text-align: right;\">\n",
       "      <th></th>\n",
       "      <th>days_with_repeated_logs_count</th>\n",
       "    </tr>\n",
       "  </thead>\n",
       "  <tbody>\n",
       "    <tr>\n",
       "      <th>count</th>\n",
       "      <td>3272.000000</td>\n",
       "    </tr>\n",
       "    <tr>\n",
       "      <th>mean</th>\n",
       "      <td>1.205685</td>\n",
       "    </tr>\n",
       "    <tr>\n",
       "      <th>std</th>\n",
       "      <td>1.695443</td>\n",
       "    </tr>\n",
       "    <tr>\n",
       "      <th>min</th>\n",
       "      <td>0.000000</td>\n",
       "    </tr>\n",
       "    <tr>\n",
       "      <th>25%</th>\n",
       "      <td>0.000000</td>\n",
       "    </tr>\n",
       "    <tr>\n",
       "      <th>50%</th>\n",
       "      <td>1.000000</td>\n",
       "    </tr>\n",
       "    <tr>\n",
       "      <th>75%</th>\n",
       "      <td>1.000000</td>\n",
       "    </tr>\n",
       "    <tr>\n",
       "      <th>max</th>\n",
       "      <td>28.000000</td>\n",
       "    </tr>\n",
       "  </tbody>\n",
       "</table>\n",
       "</div>"
      ],
      "text/plain": [
       "       days_with_repeated_logs_count\n",
       "count                    3272.000000\n",
       "mean                        1.205685\n",
       "std                         1.695443\n",
       "min                         0.000000\n",
       "25%                         0.000000\n",
       "50%                         1.000000\n",
       "75%                         1.000000\n",
       "max                        28.000000"
      ]
     },
     "metadata": {},
     "output_type": "display_data"
    },
    {
     "name": "stdout",
     "output_type": "stream",
     "text": [
      "Медиана: 1.0\n",
      "% пропусков в признаке для группы 0:            \n",
      "38.2\n"
     ]
    },
    {
     "data": {
      "text/plain": [
       "<AxesSubplot:xlabel='blocked', ylabel='days_with_repeated_logs_count'>"
      ]
     },
     "execution_count": 53,
     "metadata": {},
     "output_type": "execute_result"
    }
   ],
   "source": [
    "schow_feature_boxplots(repeated_logs_in_day, 'days_with_repeated_logs_count')"
   ]
  },
  {
   "cell_type": "markdown",
   "id": "d96447b5",
   "metadata": {},
   "source": [
    "Для группы уходящих клиентов постоянное количество дней с более чем одним логом более широко, даже не смотря на то, что класс в наборе данных в минорном количестве. "
   ]
  },
  {
   "cell_type": "code",
   "execution_count": 54,
   "id": "26d47ab2",
   "metadata": {},
   "outputs": [],
   "source": [
    "repeated_logs_in_day['total_repeated_logs_count'] = (repeated_logs_in_day.iloc[:, 1:32]).sum(axis=1)\n",
    "\n",
    "repeated_logs_in_day['mean_repeated_logs_in_day'] = round(repeated_logs_in_day[\n",
    "                    'total_repeated_logs_count']/repeated_logs_in_day[\n",
    "                     'days_with_repeated_logs_count'])"
   ]
  },
  {
   "cell_type": "code",
   "execution_count": 55,
   "id": "a27a27b5",
   "metadata": {},
   "outputs": [
    {
     "data": {
      "image/png": "[encoded data removed]",
      "text/plain": [
       "<Figure size 432x288 with 1 Axes>"
      ]
     },
     "metadata": {
      "needs_background": "light"
     },
     "output_type": "display_data"
    },
    {
     "name": "stdout",
     "output_type": "stream",
     "text": [
      "Статистики для группы blocked == 1\n"
     ]
    },
    {
     "data": {
      "text/html": [
       "<div>\n",
       "<style scoped>\n",
       "    .dataframe tbody tr th:only-of-type {\n",
       "        vertical-align: middle;\n",
       "    }\n",
       "\n",
       "    .dataframe tbody tr th {\n",
       "        vertical-align: top;\n",
       "    }\n",
       "\n",
       "    .dataframe thead th {\n",
       "        text-align: right;\n",
       "    }\n",
       "</style>\n",
       "<table border=\"1\" class=\"dataframe\">\n",
       "  <thead>\n",
       "    <tr style=\"text-align: right;\">\n",
       "      <th></th>\n",
       "      <th>mean_repeated_logs_in_day</th>\n",
       "    </tr>\n",
       "  </thead>\n",
       "  <tbody>\n",
       "    <tr>\n",
       "      <th>count</th>\n",
       "      <td>383.000000</td>\n",
       "    </tr>\n",
       "    <tr>\n",
       "      <th>mean</th>\n",
       "      <td>3.415144</td>\n",
       "    </tr>\n",
       "    <tr>\n",
       "      <th>std</th>\n",
       "      <td>1.819752</td>\n",
       "    </tr>\n",
       "    <tr>\n",
       "      <th>min</th>\n",
       "      <td>2.000000</td>\n",
       "    </tr>\n",
       "    <tr>\n",
       "      <th>25%</th>\n",
       "      <td>2.000000</td>\n",
       "    </tr>\n",
       "    <tr>\n",
       "      <th>50%</th>\n",
       "      <td>3.000000</td>\n",
       "    </tr>\n",
       "    <tr>\n",
       "      <th>75%</th>\n",
       "      <td>4.000000</td>\n",
       "    </tr>\n",
       "    <tr>\n",
       "      <th>max</th>\n",
       "      <td>12.000000</td>\n",
       "    </tr>\n",
       "  </tbody>\n",
       "</table>\n",
       "</div>"
      ],
      "text/plain": [
       "       mean_repeated_logs_in_day\n",
       "count                 383.000000\n",
       "mean                    3.415144\n",
       "std                     1.819752\n",
       "min                     2.000000\n",
       "25%                     2.000000\n",
       "50%                     3.000000\n",
       "75%                     4.000000\n",
       "max                    12.000000"
      ]
     },
     "metadata": {},
     "output_type": "display_data"
    },
    {
     "name": "stdout",
     "output_type": "stream",
     "text": [
      "Медиана: 3.0\n",
      "% пропусков в признаке для группы 1:           \n",
      "45.1\n",
      "\n",
      "Статистики для группы blocked == 0\n"
     ]
    },
    {
     "data": {
      "text/html": [
       "<div>\n",
       "<style scoped>\n",
       "    .dataframe tbody tr th:only-of-type {\n",
       "        vertical-align: middle;\n",
       "    }\n",
       "\n",
       "    .dataframe tbody tr th {\n",
       "        vertical-align: top;\n",
       "    }\n",
       "\n",
       "    .dataframe thead th {\n",
       "        text-align: right;\n",
       "    }\n",
       "</style>\n",
       "<table border=\"1\" class=\"dataframe\">\n",
       "  <thead>\n",
       "    <tr style=\"text-align: right;\">\n",
       "      <th></th>\n",
       "      <th>mean_repeated_logs_in_day</th>\n",
       "    </tr>\n",
       "  </thead>\n",
       "  <tbody>\n",
       "    <tr>\n",
       "      <th>count</th>\n",
       "      <td>2135.000000</td>\n",
       "    </tr>\n",
       "    <tr>\n",
       "      <th>mean</th>\n",
       "      <td>2.897892</td>\n",
       "    </tr>\n",
       "    <tr>\n",
       "      <th>std</th>\n",
       "      <td>1.557962</td>\n",
       "    </tr>\n",
       "    <tr>\n",
       "      <th>min</th>\n",
       "      <td>2.000000</td>\n",
       "    </tr>\n",
       "    <tr>\n",
       "      <th>25%</th>\n",
       "      <td>2.000000</td>\n",
       "    </tr>\n",
       "    <tr>\n",
       "      <th>50%</th>\n",
       "      <td>2.000000</td>\n",
       "    </tr>\n",
       "    <tr>\n",
       "      <th>75%</th>\n",
       "      <td>3.000000</td>\n",
       "    </tr>\n",
       "    <tr>\n",
       "      <th>max</th>\n",
       "      <td>18.000000</td>\n",
       "    </tr>\n",
       "  </tbody>\n",
       "</table>\n",
       "</div>"
      ],
      "text/plain": [
       "       mean_repeated_logs_in_day\n",
       "count                2135.000000\n",
       "mean                    2.897892\n",
       "std                     1.557962\n",
       "min                     2.000000\n",
       "25%                     2.000000\n",
       "50%                     2.000000\n",
       "75%                     3.000000\n",
       "max                    18.000000"
      ]
     },
     "metadata": {},
     "output_type": "display_data"
    },
    {
     "name": "stdout",
     "output_type": "stream",
     "text": [
      "Медиана: 2.0\n",
      "% пропусков в признаке для группы 0:            \n",
      "59.7\n"
     ]
    },
    {
     "data": {
      "text/plain": [
       "<AxesSubplot:xlabel='blocked', ylabel='mean_repeated_logs_in_day'>"
      ]
     },
     "execution_count": 55,
     "metadata": {},
     "output_type": "execute_result"
    }
   ],
   "source": [
    "#Также добавлен признак среднее количество повторяющихся логов на день\n",
    "\n",
    "schow_feature_boxplots(repeated_logs_in_day, 'mean_repeated_logs_in_day')"
   ]
  },
  {
   "cell_type": "code",
   "execution_count": 56,
   "id": "3f73550b",
   "metadata": {},
   "outputs": [],
   "source": [
    "#Сборка полученных признаков в единую таблицу\n",
    "\n",
    "repeated_logs_in_day = repeated_logs_in_day[['contract_id', 'days_with_repeated_logs_count',\n",
    "                                             'mean_repeated_logs_in_day']].query(\n",
    "                                            'days_with_repeated_logs_count <= 60')\n",
    "\n",
    "relative_logs_features = relative_logs_features.merge(repeated_logs_in_day, \n",
    "                                                      on = 'contract_id',how='outer').fillna(0) "
   ]
  },
  {
   "cell_type": "markdown",
   "id": "34989fdf",
   "metadata": {},
   "source": [
    "### Формирование обучающих и тестовых данных. "
   ]
  },
  {
   "cell_type": "code",
   "execution_count": 57,
   "id": "295aa0c9",
   "metadata": {},
   "outputs": [],
   "source": [
    "df_train = df_train.merge(df_type_contract, on='contract_id', how='left')\n",
    "df_train = df_train.merge(relative_logs_features, on = 'contract_id',how='left').fillna(0) \n"
   ]
  },
  {
   "cell_type": "code",
   "execution_count": 58,
   "id": "031622b9",
   "metadata": {},
   "outputs": [
    {
     "data": {
      "text/plain": [
       "27"
      ]
     },
     "execution_count": 58,
     "metadata": {},
     "output_type": "execute_result"
    }
   ],
   "source": [
    "len(df_train.columns)"
   ]
  },
  {
   "cell_type": "code",
   "execution_count": 59,
   "id": "133e77d2",
   "metadata": {},
   "outputs": [],
   "source": [
    "final_test_data = df_sample_solution.merge(df_type_contract, on='contract_id', how='left')\n",
    "final_test_data = final_test_data.merge(relative_logs_features, on = 'contract_id',how='left').fillna(0) "
   ]
  },
  {
   "cell_type": "code",
   "execution_count": 60,
   "id": "14fd40a7",
   "metadata": {},
   "outputs": [
    {
     "data": {
      "text/plain": [
       "27"
      ]
     },
     "execution_count": 60,
     "metadata": {},
     "output_type": "execute_result"
    }
   ],
   "source": [
    "len(final_test_data.columns)"
   ]
  },
  {
   "cell_type": "code",
   "execution_count": 61,
   "id": "04cf010d",
   "metadata": {},
   "outputs": [],
   "source": [
    "#final_test_data.drop(['blocked', 'contract_id'],axis=1, inplace=True)"
   ]
  },
  {
   "cell_type": "code",
   "execution_count": 62,
   "id": "2b3f9e11",
   "metadata": {},
   "outputs": [],
   "source": [
    "#df_train.to_csv('current_train.csv')\n",
    "#final_test_data.to_csv('test.csv')"
   ]
  },
  {
   "cell_type": "markdown",
   "id": "59b44b9a",
   "metadata": {},
   "source": [
    "### Базовое обучение"
   ]
  },
  {
   "cell_type": "code",
   "execution_count": 64,
   "id": "54e75409",
   "metadata": {},
   "outputs": [
    {
     "name": "stdout",
     "output_type": "stream",
     "text": [
      "Классы в тренировочном наборе данных\n"
     ]
    },
    {
     "data": {
      "text/plain": [
       "0    5294\n",
       "1     698\n",
       "Name: blocked, dtype: int64"
      ]
     },
     "execution_count": 64,
     "metadata": {},
     "output_type": "execute_result"
    }
   ],
   "source": [
    "print('Классы в тренировочном наборе данных')\n",
    "\n",
    "df_train['blocked'].value_counts()"
   ]
  },
  {
   "cell_type": "code",
   "execution_count": 67,
   "id": "5f0307a5",
   "metadata": {},
   "outputs": [
    {
     "name": "stderr",
     "output_type": "stream",
     "text": [
      "/var/folders/44/m5wkyqf96jjfs5d97lqgk_q00000gn/T/ipykernel_3747/1678379761.py:22: DataConversionWarning: A column-vector y was passed when a 1d array was expected. Please change the shape of y to (n_samples,), for example using ravel().\n",
      "  classic_random_forest.fit(X_train, y_train)\n"
     ]
    },
    {
     "name": "stdout",
     "output_type": "stream",
     "text": [
      "Recall score: 0.7127039627039626\n"
     ]
    }
   ],
   "source": [
    "from sklearn.ensemble import RandomForestClassifier\n",
    "from sklearn.metrics import recall_score, classification_report\n",
    "from sklearn.model_selection import train_test_split\n",
    "\n",
    "\n",
    "#Срез сэмпла для обучения алгоритма\n",
    "#Необходим для устранения сильного ребаланса\n",
    "df_train_sample = df_train.query('blocked==0').sample(1000, \n",
    "                 random_state=7).append(df_train.query('blocked==1')).fillna(0)\n",
    "\n",
    "#Определение матрицы признаков и вектора целевой переменной\n",
    "X = df_train_sample.drop([\"contract_id\", \"blocked\"], axis = 1)\n",
    "y = df_train_sample[[\"blocked\"]]\n",
    "\n",
    "#Разбиение датасета так, чтобы спрятать независимый кусочек для ещё одного тестирования, помимо валидации\n",
    "X_train, X_test, y_train, y_test = train_test_split(X, y, test_size=0.2, random_state=2)\n",
    "\n",
    "#Определение алгоритма\n",
    "classic_random_forest = RandomForestClassifier(random_state=1, n_estimators=200, max_depth=11,\n",
    "                             criterion=\"entropy\")\n",
    "\n",
    "classic_random_forest.fit(X_train, y_train)\n",
    "\n",
    "predictions = classic_random_forest.predict(X_test)\n",
    "\n",
    "print(\"Recall score:\", recall_score(y_test, predictions, average='macro'))"
   ]
  },
  {
   "cell_type": "code",
   "execution_count": 68,
   "id": "fe660a2a",
   "metadata": {},
   "outputs": [
    {
     "data": {
      "text/plain": [
       "<AxesSubplot:>"
      ]
     },
     "execution_count": 68,
     "metadata": {},
     "output_type": "execute_result"
    },
    {
     "data": {
      "image/png": "[encoded data removed]",
      "text/plain": [
       "<Figure size 432x432 with 1 Axes>"
      ]
     },
     "metadata": {
      "needs_background": "light"
     },
     "output_type": "display_data"
    }
   ],
   "source": [
    "pd.DataFrame(data={'score': classic_random_forest.feature_importances_}, \n",
    "                      index=classic_random_forest.feature_names_in_).sort_values(by='score').plot(kind='barh', grid=True,\n",
    "                                               figsize=(6,6), legend=False)"
   ]
  }
 ],
 "metadata": {
  "kernelspec": {
   "display_name": "Python 3 (ipykernel)",
   "language": "python",
   "name": "python3"
  },
  "language_info": {
   "codemirror_mode": {
    "name": "ipython",
    "version": 3
   },
   "file_extension": ".py",
   "mimetype": "text/x-python",
   "name": "python",
   "nbconvert_exporter": "python",
   "pygments_lexer": "ipython3",
   "version": "3.9.7"
  }
 },
 "nbformat": 4,
 "nbformat_minor": 5
}
